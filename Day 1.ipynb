{
 "cells": [
  {
   "cell_type": "markdown",
   "id": "cb3011c2",
   "metadata": {},
   "source": [
    "### DAY 1"
   ]
  },
  {
   "cell_type": "markdown",
   "id": "e17396f6",
   "metadata": {},
   "source": [
    "# Data Analysis\n",
    "\n",
    "- The meaningful information said to be data\n",
    "- Types of data in realtime/devices\n",
    "    - .txt,.doc,.xls,.ppt,.mp3,.mp4 etc\n",
    "- Types of Data in realtime\n",
    "    1. Quantitative and\n",
    "        - Represents the size/volume of data\n",
    "        - Discrete and ContinuouS\n",
    "            - This type of data is fixed/constant\n",
    "                - Ex: numbers on die:varies from 1 to 6\n",
    "                    ~ distance,color,nationality,size etc\n",
    "            - Continuous data means the value/data is continuous\n",
    "                - height,weight & hours\n",
    "    2. Qualitative\n",
    "        - Data is observed and placed in terms of catergory\n",
    "            - Ex: Data Submission in Feedback form\n",
    "- Data in Statistics\n",
    "    - Nominal,Ordinal,Interval and Ratio\n",
    "        - Nominal means data is categorized on the basis of names\n",
    "            - Ex: Nationality,Color,Gender\n",
    "        - Ordinal means data is based upon the order of values\n",
    "            - Feedback form\n",
    "        - Interval means a range of data values\n",
    "            - time interval in clock :2:15 is in b/w 2&3\n",
    "        - Raio means data is meaningfuly added,subtracted,mutiplied or divided\n",
    "\n"
   ]
  },
  {
   "cell_type": "code",
   "execution_count": null,
   "id": "c46c30e5",
   "metadata": {},
   "outputs": [],
   "source": [
    "# sum of middle digits\n",
    "\n",
    "n = list(map(int,input().split()))\n",
    "s = 0\n",
    "for i in n:\n",
    "    mid = len(str(i))//2\n",
    "    print(\"mid : \",mid)\n",
    "    i = list(str(i))\n",
    "    print(\"mid index value : \",i[mid])\n",
    "    s = s+int(i[mid])\n",
    "\n",
    "print(\"Sum of middle digits is : \",s)"
   ]
  },
  {
   "cell_type": "markdown",
   "id": "9dfe7596",
   "metadata": {},
   "source": [
    "## NUMPY \n",
    "### NUMERICAL PYTHON"
   ]
  },
  {
   "cell_type": "code",
   "execution_count": 2,
   "id": "4770a6fe",
   "metadata": {},
   "outputs": [
    {
     "name": "stdout",
     "output_type": "stream",
     "text": [
      "[1. 2. 3. 4. 5.]\n",
      "[1 2 3 4 5]\n"
     ]
    }
   ],
   "source": [
    "#numpy array\n",
    "import numpy as np\n",
    "\n",
    "#array\n",
    "print(np.array([1,2,3,4,5],dtype=\"float\"))\n",
    "\n",
    "# tuple\n",
    "print(np.array((1,2,3,4,5)))"
   ]
  },
  {
   "cell_type": "code",
   "execution_count": 9,
   "id": "fddb6cc9",
   "metadata": {},
   "outputs": [
    {
     "name": "stdout",
     "output_type": "stream",
     "text": [
      "['1.2' '4.4' '5' '6' '8.909' '5']\n"
     ]
    }
   ],
   "source": [
    "st = np.array([1.2,4.4,5,6,8.909,5],dtype=\"str\")\n",
    "print(st)"
   ]
  },
  {
   "cell_type": "code",
   "execution_count": 6,
   "id": "9f874c34",
   "metadata": {},
   "outputs": [
    {
     "name": "stdout",
     "output_type": "stream",
     "text": [
      "[0 1 2 3 4 5 6 7 8 9]\n"
     ]
    }
   ],
   "source": [
    "a = np.array(range(10))\n",
    "print(a)"
   ]
  },
  {
   "cell_type": "code",
   "execution_count": 15,
   "id": "c1151c4d",
   "metadata": {},
   "outputs": [
    {
     "name": "stdout",
     "output_type": "stream",
     "text": [
      "[10 11 12 13 14 15 16 17 18 19 20 21 22 23 24 25 26 27 28 29 30 31 32 33\n",
      " 34 35 36 37 38 39 40 41 42 43 44 45 46 47 48 49 50 51 52 53 54 55 56 57\n",
      " 58 59 60 61 62 63 64 65 66 67 68 69 70 71 72 73 74 75 76 77 78 79]\n",
      "----------------\n",
      "[80 77 74 71 68 65 62 59 56 53 50 47 44 41 38 35 32 29 26 23 20 17 14 11]\n"
     ]
    }
   ],
   "source": [
    "a = np.array(range(10,80))\n",
    "print(a)\n",
    "print(\"----------------\")\n",
    "a = np.array(range(80,10,-3))\n",
    "print(a)"
   ]
  },
  {
   "cell_type": "code",
   "execution_count": 16,
   "id": "c20c850f",
   "metadata": {},
   "outputs": [
    {
     "data": {
      "text/plain": [
       "1"
      ]
     },
     "execution_count": 16,
     "metadata": {},
     "output_type": "execute_result"
    }
   ],
   "source": [
    "a.ndim\n"
   ]
  },
  {
   "cell_type": "code",
   "execution_count": 7,
   "id": "96135986",
   "metadata": {},
   "outputs": [
    {
     "name": "stdout",
     "output_type": "stream",
     "text": [
      "[[1 2 3]\n",
      " [4 5 6]\n",
      " [7 8 9]]\n"
     ]
    }
   ],
   "source": [
    "ta = np.array([[1,2,3],[4,5,6],[7,8,9]])\n",
    "print(ta)"
   ]
  },
  {
   "cell_type": "code",
   "execution_count": 24,
   "id": "d945dddc",
   "metadata": {},
   "outputs": [
    {
     "data": {
      "text/plain": [
       "2"
      ]
     },
     "execution_count": 24,
     "metadata": {},
     "output_type": "execute_result"
    }
   ],
   "source": [
    "ta.ndim"
   ]
  },
  {
   "cell_type": "code",
   "execution_count": null,
   "id": "debdb60f",
   "metadata": {},
   "outputs": [],
   "source": [
    "ta.shape(row,coloum)\n",
    "\n",
    "ta.size # no of elements in array\n",
    "\n",
    "ta.datatype # data type\n",
    "\n",
    "ta.itemsize "
   ]
  },
  {
   "cell_type": "code",
   "execution_count": 8,
   "id": "d5cd9e90",
   "metadata": {},
   "outputs": [
    {
     "name": "stdout",
     "output_type": "stream",
     "text": [
      "[[['1' '2.02' '3']\n",
      "  ['4' 'hii' '6']]\n",
      "\n",
      " [['a' 'b' 'c']\n",
      "  ['4' 'hii' '6']]]\n"
     ]
    }
   ],
   "source": [
    "d3 = np.array([[[1,2.02,3],[4,\"hii\",6]],[[\"a\",\"b\",\"c\"],[4,\"hii\",6]]])\n",
    "print(d3)"
   ]
  },
  {
   "cell_type": "code",
   "execution_count": 9,
   "id": "b2273333",
   "metadata": {},
   "outputs": [
    {
     "name": "stdout",
     "output_type": "stream",
     "text": [
      "[[[[[[[[[[[[[[[[[[[[[[[[[[[[[[1 2 3 4 5]]]]]]]]]]]]]]]]]]]]]]]]]]]]]]\n"
     ]
    }
   ],
   "source": [
    "d32 = np.array([1,2,3,4,5],ndmin=30) ## max 32\n",
    "print(d32)"
   ]
  },
  {
   "cell_type": "code",
   "execution_count": 20,
   "id": "403e62b3",
   "metadata": {},
   "outputs": [
    {
     "name": "stdout",
     "output_type": "stream",
     "text": [
      "[[1. 0. 0. 0. 0. 0.]\n",
      " [0. 1. 0. 0. 0. 0.]\n",
      " [0. 0. 1. 0. 0. 0.]]\n"
     ]
    }
   ],
   "source": [
    "i = np.eye(3,6)\n",
    "print(i)"
   ]
  },
  {
   "cell_type": "code",
   "execution_count": 17,
   "id": "3f4df536",
   "metadata": {},
   "outputs": [
    {
     "name": "stdout",
     "output_type": "stream",
     "text": [
      "[[0. 0. 0. 0.]\n",
      " [0. 0. 0. 0.]\n",
      " [0. 0. 0. 0.]]\n"
     ]
    }
   ],
   "source": [
    "z = np.zeros((3,4),dtype=\"float\")\n",
    "\n",
    "print(z)"
   ]
  },
  {
   "cell_type": "code",
   "execution_count": 15,
   "id": "a88fe4bb",
   "metadata": {},
   "outputs": [
    {
     "data": {
      "text/plain": [
       "12"
      ]
     },
     "execution_count": 15,
     "metadata": {},
     "output_type": "execute_result"
    }
   ],
   "source": [
    "d3.size"
   ]
  },
  {
   "cell_type": "code",
   "execution_count": 18,
   "id": "cc3ca280",
   "metadata": {},
   "outputs": [
    {
     "data": {
      "text/plain": [
       "['ALLOW_THREADS',\n",
       " 'AxisError',\n",
       " 'BUFSIZE',\n",
       " 'Bytes0',\n",
       " 'CLIP',\n",
       " 'ComplexWarning',\n",
       " 'DataSource',\n",
       " 'Datetime64',\n",
       " 'ERR_CALL',\n",
       " 'ERR_DEFAULT',\n",
       " 'ERR_IGNORE',\n",
       " 'ERR_LOG',\n",
       " 'ERR_PRINT',\n",
       " 'ERR_RAISE',\n",
       " 'ERR_WARN',\n",
       " 'FLOATING_POINT_SUPPORT',\n",
       " 'FPE_DIVIDEBYZERO',\n",
       " 'FPE_INVALID',\n",
       " 'FPE_OVERFLOW',\n",
       " 'FPE_UNDERFLOW',\n",
       " 'False_',\n",
       " 'Inf',\n",
       " 'Infinity',\n",
       " 'MAXDIMS',\n",
       " 'MAY_SHARE_BOUNDS',\n",
       " 'MAY_SHARE_EXACT',\n",
       " 'MachAr',\n",
       " 'ModuleDeprecationWarning',\n",
       " 'NAN',\n",
       " 'NINF',\n",
       " 'NZERO',\n",
       " 'NaN',\n",
       " 'PINF',\n",
       " 'PZERO',\n",
       " 'RAISE',\n",
       " 'RankWarning',\n",
       " 'SHIFT_DIVIDEBYZERO',\n",
       " 'SHIFT_INVALID',\n",
       " 'SHIFT_OVERFLOW',\n",
       " 'SHIFT_UNDERFLOW',\n",
       " 'ScalarType',\n",
       " 'Str0',\n",
       " 'Tester',\n",
       " 'TooHardError',\n",
       " 'True_',\n",
       " 'UFUNC_BUFSIZE_DEFAULT',\n",
       " 'UFUNC_PYVALS_NAME',\n",
       " 'Uint64',\n",
       " 'VisibleDeprecationWarning',\n",
       " 'WRAP',\n",
       " '_NoValue',\n",
       " '_UFUNC_API',\n",
       " '__NUMPY_SETUP__',\n",
       " '__all__',\n",
       " '__builtins__',\n",
       " '__cached__',\n",
       " '__config__',\n",
       " '__deprecated_attrs__',\n",
       " '__dir__',\n",
       " '__doc__',\n",
       " '__expired_functions__',\n",
       " '__file__',\n",
       " '__getattr__',\n",
       " '__git_revision__',\n",
       " '__loader__',\n",
       " '__mkl_version__',\n",
       " '__name__',\n",
       " '__package__',\n",
       " '__path__',\n",
       " '__spec__',\n",
       " '__version__',\n",
       " '_add_newdoc_ufunc',\n",
       " '_distributor_init',\n",
       " '_financial_names',\n",
       " '_globals',\n",
       " '_mat',\n",
       " '_pytesttester',\n",
       " 'abs',\n",
       " 'absolute',\n",
       " 'add',\n",
       " 'add_docstring',\n",
       " 'add_newdoc',\n",
       " 'add_newdoc_ufunc',\n",
       " 'alen',\n",
       " 'all',\n",
       " 'allclose',\n",
       " 'alltrue',\n",
       " 'amax',\n",
       " 'amin',\n",
       " 'angle',\n",
       " 'any',\n",
       " 'append',\n",
       " 'apply_along_axis',\n",
       " 'apply_over_axes',\n",
       " 'arange',\n",
       " 'arccos',\n",
       " 'arccosh',\n",
       " 'arcsin',\n",
       " 'arcsinh',\n",
       " 'arctan',\n",
       " 'arctan2',\n",
       " 'arctanh',\n",
       " 'argmax',\n",
       " 'argmin',\n",
       " 'argpartition',\n",
       " 'argsort',\n",
       " 'argwhere',\n",
       " 'around',\n",
       " 'array',\n",
       " 'array2string',\n",
       " 'array_equal',\n",
       " 'array_equiv',\n",
       " 'array_repr',\n",
       " 'array_split',\n",
       " 'array_str',\n",
       " 'asanyarray',\n",
       " 'asarray',\n",
       " 'asarray_chkfinite',\n",
       " 'ascontiguousarray',\n",
       " 'asfarray',\n",
       " 'asfortranarray',\n",
       " 'asmatrix',\n",
       " 'asscalar',\n",
       " 'atleast_1d',\n",
       " 'atleast_2d',\n",
       " 'atleast_3d',\n",
       " 'average',\n",
       " 'bartlett',\n",
       " 'base_repr',\n",
       " 'binary_repr',\n",
       " 'bincount',\n",
       " 'bitwise_and',\n",
       " 'bitwise_not',\n",
       " 'bitwise_or',\n",
       " 'bitwise_xor',\n",
       " 'blackman',\n",
       " 'block',\n",
       " 'bmat',\n",
       " 'bool8',\n",
       " 'bool_',\n",
       " 'broadcast',\n",
       " 'broadcast_arrays',\n",
       " 'broadcast_shapes',\n",
       " 'broadcast_to',\n",
       " 'busday_count',\n",
       " 'busday_offset',\n",
       " 'busdaycalendar',\n",
       " 'byte',\n",
       " 'byte_bounds',\n",
       " 'bytes0',\n",
       " 'bytes_',\n",
       " 'c_',\n",
       " 'can_cast',\n",
       " 'cast',\n",
       " 'cbrt',\n",
       " 'cdouble',\n",
       " 'ceil',\n",
       " 'cfloat',\n",
       " 'char',\n",
       " 'character',\n",
       " 'chararray',\n",
       " 'choose',\n",
       " 'clip',\n",
       " 'clongdouble',\n",
       " 'clongfloat',\n",
       " 'column_stack',\n",
       " 'common_type',\n",
       " 'compare_chararrays',\n",
       " 'compat',\n",
       " 'complex128',\n",
       " 'complex64',\n",
       " 'complex_',\n",
       " 'complexfloating',\n",
       " 'compress',\n",
       " 'concatenate',\n",
       " 'conj',\n",
       " 'conjugate',\n",
       " 'convolve',\n",
       " 'copy',\n",
       " 'copysign',\n",
       " 'copyto',\n",
       " 'core',\n",
       " 'corrcoef',\n",
       " 'correlate',\n",
       " 'cos',\n",
       " 'cosh',\n",
       " 'count_nonzero',\n",
       " 'cov',\n",
       " 'cross',\n",
       " 'csingle',\n",
       " 'ctypeslib',\n",
       " 'cumprod',\n",
       " 'cumproduct',\n",
       " 'cumsum',\n",
       " 'datetime64',\n",
       " 'datetime_as_string',\n",
       " 'datetime_data',\n",
       " 'deg2rad',\n",
       " 'degrees',\n",
       " 'delete',\n",
       " 'deprecate',\n",
       " 'deprecate_with_doc',\n",
       " 'diag',\n",
       " 'diag_indices',\n",
       " 'diag_indices_from',\n",
       " 'diagflat',\n",
       " 'diagonal',\n",
       " 'diff',\n",
       " 'digitize',\n",
       " 'disp',\n",
       " 'divide',\n",
       " 'divmod',\n",
       " 'dot',\n",
       " 'double',\n",
       " 'dsplit',\n",
       " 'dstack',\n",
       " 'dtype',\n",
       " 'e',\n",
       " 'ediff1d',\n",
       " 'einsum',\n",
       " 'einsum_path',\n",
       " 'emath',\n",
       " 'empty',\n",
       " 'empty_like',\n",
       " 'equal',\n",
       " 'errstate',\n",
       " 'euler_gamma',\n",
       " 'exp',\n",
       " 'exp2',\n",
       " 'expand_dims',\n",
       " 'expm1',\n",
       " 'extract',\n",
       " 'eye',\n",
       " 'fabs',\n",
       " 'fastCopyAndTranspose',\n",
       " 'fft',\n",
       " 'fill_diagonal',\n",
       " 'find_common_type',\n",
       " 'finfo',\n",
       " 'fix',\n",
       " 'flatiter',\n",
       " 'flatnonzero',\n",
       " 'flexible',\n",
       " 'flip',\n",
       " 'fliplr',\n",
       " 'flipud',\n",
       " 'float16',\n",
       " 'float32',\n",
       " 'float64',\n",
       " 'float_',\n",
       " 'float_power',\n",
       " 'floating',\n",
       " 'floor',\n",
       " 'floor_divide',\n",
       " 'fmax',\n",
       " 'fmin',\n",
       " 'fmod',\n",
       " 'format_float_positional',\n",
       " 'format_float_scientific',\n",
       " 'format_parser',\n",
       " 'frexp',\n",
       " 'frombuffer',\n",
       " 'fromfile',\n",
       " 'fromfunction',\n",
       " 'fromiter',\n",
       " 'frompyfunc',\n",
       " 'fromregex',\n",
       " 'fromstring',\n",
       " 'full',\n",
       " 'full_like',\n",
       " 'gcd',\n",
       " 'generic',\n",
       " 'genfromtxt',\n",
       " 'geomspace',\n",
       " 'get_array_wrap',\n",
       " 'get_include',\n",
       " 'get_printoptions',\n",
       " 'getbufsize',\n",
       " 'geterr',\n",
       " 'geterrcall',\n",
       " 'geterrobj',\n",
       " 'gradient',\n",
       " 'greater',\n",
       " 'greater_equal',\n",
       " 'half',\n",
       " 'hamming',\n",
       " 'hanning',\n",
       " 'heaviside',\n",
       " 'histogram',\n",
       " 'histogram2d',\n",
       " 'histogram_bin_edges',\n",
       " 'histogramdd',\n",
       " 'hsplit',\n",
       " 'hstack',\n",
       " 'hypot',\n",
       " 'i0',\n",
       " 'identity',\n",
       " 'iinfo',\n",
       " 'imag',\n",
       " 'in1d',\n",
       " 'index_exp',\n",
       " 'indices',\n",
       " 'inexact',\n",
       " 'inf',\n",
       " 'info',\n",
       " 'infty',\n",
       " 'inner',\n",
       " 'insert',\n",
       " 'int0',\n",
       " 'int16',\n",
       " 'int32',\n",
       " 'int64',\n",
       " 'int8',\n",
       " 'int_',\n",
       " 'intc',\n",
       " 'integer',\n",
       " 'interp',\n",
       " 'intersect1d',\n",
       " 'intp',\n",
       " 'invert',\n",
       " 'is_busday',\n",
       " 'isclose',\n",
       " 'iscomplex',\n",
       " 'iscomplexobj',\n",
       " 'isfinite',\n",
       " 'isfortran',\n",
       " 'isin',\n",
       " 'isinf',\n",
       " 'isnan',\n",
       " 'isnat',\n",
       " 'isneginf',\n",
       " 'isposinf',\n",
       " 'isreal',\n",
       " 'isrealobj',\n",
       " 'isscalar',\n",
       " 'issctype',\n",
       " 'issubclass_',\n",
       " 'issubdtype',\n",
       " 'issubsctype',\n",
       " 'iterable',\n",
       " 'ix_',\n",
       " 'kaiser',\n",
       " 'kron',\n",
       " 'lcm',\n",
       " 'ldexp',\n",
       " 'left_shift',\n",
       " 'less',\n",
       " 'less_equal',\n",
       " 'lexsort',\n",
       " 'lib',\n",
       " 'linalg',\n",
       " 'linspace',\n",
       " 'little_endian',\n",
       " 'load',\n",
       " 'loads',\n",
       " 'loadtxt',\n",
       " 'log',\n",
       " 'log10',\n",
       " 'log1p',\n",
       " 'log2',\n",
       " 'logaddexp',\n",
       " 'logaddexp2',\n",
       " 'logical_and',\n",
       " 'logical_not',\n",
       " 'logical_or',\n",
       " 'logical_xor',\n",
       " 'logspace',\n",
       " 'longcomplex',\n",
       " 'longdouble',\n",
       " 'longfloat',\n",
       " 'longlong',\n",
       " 'lookfor',\n",
       " 'ma',\n",
       " 'mafromtxt',\n",
       " 'mask_indices',\n",
       " 'mat',\n",
       " 'math',\n",
       " 'matmul',\n",
       " 'matrix',\n",
       " 'matrixlib',\n",
       " 'max',\n",
       " 'maximum',\n",
       " 'maximum_sctype',\n",
       " 'may_share_memory',\n",
       " 'mean',\n",
       " 'median',\n",
       " 'memmap',\n",
       " 'meshgrid',\n",
       " 'mgrid',\n",
       " 'min',\n",
       " 'min_scalar_type',\n",
       " 'minimum',\n",
       " 'mintypecode',\n",
       " 'mkl',\n",
       " 'mod',\n",
       " 'modf',\n",
       " 'moveaxis',\n",
       " 'msort',\n",
       " 'multiply',\n",
       " 'nan',\n",
       " 'nan_to_num',\n",
       " 'nanargmax',\n",
       " 'nanargmin',\n",
       " 'nancumprod',\n",
       " 'nancumsum',\n",
       " 'nanmax',\n",
       " 'nanmean',\n",
       " 'nanmedian',\n",
       " 'nanmin',\n",
       " 'nanpercentile',\n",
       " 'nanprod',\n",
       " 'nanquantile',\n",
       " 'nanstd',\n",
       " 'nansum',\n",
       " 'nanvar',\n",
       " 'nbytes',\n",
       " 'ndarray',\n",
       " 'ndenumerate',\n",
       " 'ndfromtxt',\n",
       " 'ndim',\n",
       " 'ndindex',\n",
       " 'nditer',\n",
       " 'negative',\n",
       " 'nested_iters',\n",
       " 'newaxis',\n",
       " 'nextafter',\n",
       " 'nonzero',\n",
       " 'not_equal',\n",
       " 'numarray',\n",
       " 'number',\n",
       " 'obj2sctype',\n",
       " 'object0',\n",
       " 'object_',\n",
       " 'ogrid',\n",
       " 'oldnumeric',\n",
       " 'ones',\n",
       " 'ones_like',\n",
       " 'os',\n",
       " 'outer',\n",
       " 'packbits',\n",
       " 'pad',\n",
       " 'partition',\n",
       " 'percentile',\n",
       " 'pi',\n",
       " 'piecewise',\n",
       " 'place',\n",
       " 'poly',\n",
       " 'poly1d',\n",
       " 'polyadd',\n",
       " 'polyder',\n",
       " 'polydiv',\n",
       " 'polyfit',\n",
       " 'polyint',\n",
       " 'polymul',\n",
       " 'polynomial',\n",
       " 'polysub',\n",
       " 'polyval',\n",
       " 'positive',\n",
       " 'power',\n",
       " 'printoptions',\n",
       " 'prod',\n",
       " 'product',\n",
       " 'promote_types',\n",
       " 'ptp',\n",
       " 'put',\n",
       " 'put_along_axis',\n",
       " 'putmask',\n",
       " 'quantile',\n",
       " 'r_',\n",
       " 'rad2deg',\n",
       " 'radians',\n",
       " 'random',\n",
       " 'ravel',\n",
       " 'ravel_multi_index',\n",
       " 'real',\n",
       " 'real_if_close',\n",
       " 'rec',\n",
       " 'recarray',\n",
       " 'recfromcsv',\n",
       " 'recfromtxt',\n",
       " 'reciprocal',\n",
       " 'record',\n",
       " 'remainder',\n",
       " 'repeat',\n",
       " 'require',\n",
       " 'reshape',\n",
       " 'resize',\n",
       " 'result_type',\n",
       " 'right_shift',\n",
       " 'rint',\n",
       " 'roll',\n",
       " 'rollaxis',\n",
       " 'roots',\n",
       " 'rot90',\n",
       " 'round',\n",
       " 'round_',\n",
       " 'row_stack',\n",
       " 's_',\n",
       " 'safe_eval',\n",
       " 'save',\n",
       " 'savetxt',\n",
       " 'savez',\n",
       " 'savez_compressed',\n",
       " 'sctype2char',\n",
       " 'sctypeDict',\n",
       " 'sctypes',\n",
       " 'searchsorted',\n",
       " 'select',\n",
       " 'set_numeric_ops',\n",
       " 'set_printoptions',\n",
       " 'set_string_function',\n",
       " 'setbufsize',\n",
       " 'setdiff1d',\n",
       " 'seterr',\n",
       " 'seterrcall',\n",
       " 'seterrobj',\n",
       " 'setxor1d',\n",
       " 'shape',\n",
       " 'shares_memory',\n",
       " 'short',\n",
       " 'show_config',\n",
       " 'sign',\n",
       " 'signbit',\n",
       " 'signedinteger',\n",
       " 'sin',\n",
       " 'sinc',\n",
       " 'single',\n",
       " 'singlecomplex',\n",
       " 'sinh',\n",
       " 'size',\n",
       " 'sometrue',\n",
       " 'sort',\n",
       " 'sort_complex',\n",
       " 'source',\n",
       " 'spacing',\n",
       " 'split',\n",
       " 'sqrt',\n",
       " 'square',\n",
       " 'squeeze',\n",
       " 'stack',\n",
       " 'std',\n",
       " 'str0',\n",
       " 'str_',\n",
       " 'string_',\n",
       " 'subtract',\n",
       " 'sum',\n",
       " 'swapaxes',\n",
       " 'sys',\n",
       " 'take',\n",
       " 'take_along_axis',\n",
       " 'tan',\n",
       " 'tanh',\n",
       " 'tensordot',\n",
       " 'test',\n",
       " 'testing',\n",
       " 'tile',\n",
       " 'timedelta64',\n",
       " 'trace',\n",
       " 'tracemalloc_domain',\n",
       " 'transpose',\n",
       " 'trapz',\n",
       " 'tri',\n",
       " 'tril',\n",
       " 'tril_indices',\n",
       " 'tril_indices_from',\n",
       " 'trim_zeros',\n",
       " 'triu',\n",
       " 'triu_indices',\n",
       " 'triu_indices_from',\n",
       " 'true_divide',\n",
       " 'trunc',\n",
       " 'typeDict',\n",
       " 'typecodes',\n",
       " 'typename',\n",
       " 'ubyte',\n",
       " 'ufunc',\n",
       " 'uint',\n",
       " 'uint0',\n",
       " 'uint16',\n",
       " 'uint32',\n",
       " 'uint64',\n",
       " 'uint8',\n",
       " 'uintc',\n",
       " 'uintp',\n",
       " 'ulonglong',\n",
       " 'unicode_',\n",
       " 'union1d',\n",
       " 'unique',\n",
       " 'unpackbits',\n",
       " 'unravel_index',\n",
       " 'unsignedinteger',\n",
       " 'unwrap',\n",
       " 'use_hugepage',\n",
       " 'ushort',\n",
       " 'vander',\n",
       " 'var',\n",
       " 'vdot',\n",
       " 'vectorize',\n",
       " 'version',\n",
       " 'void',\n",
       " 'void0',\n",
       " 'vsplit',\n",
       " 'vstack',\n",
       " 'warnings',\n",
       " 'where',\n",
       " 'who',\n",
       " 'zeros',\n",
       " 'zeros_like']"
      ]
     },
     "execution_count": 18,
     "metadata": {},
     "output_type": "execute_result"
    }
   ],
   "source": [
    "dir(np)"
   ]
  },
  {
   "cell_type": "code",
   "execution_count": 23,
   "id": "2d70b973",
   "metadata": {},
   "outputs": [
    {
     "name": "stdout",
     "output_type": "stream",
     "text": [
      "[[1 1 1 1 1 1]\n",
      " [1 1 1 1 1 1]\n",
      " [1 1 1 1 1 1]\n",
      " [1 1 1 1 1 1]]\n"
     ]
    }
   ],
   "source": [
    "o= np.ones((4,6),dtype = \"int\")\n",
    "print(o)"
   ]
  },
  {
   "cell_type": "code",
   "execution_count": 25,
   "id": "e73c0c96",
   "metadata": {},
   "outputs": [
    {
     "name": "stdout",
     "output_type": "stream",
     "text": [
      "['rizwan' 'rizwan' 'rizwan' 'rizwan' 'rizwan' 'rizwan' 'rizwan']\n"
     ]
    }
   ],
   "source": [
    "f = np.full(7,\"rizwan\")\n",
    "print(f)"
   ]
  },
  {
   "cell_type": "code",
   "execution_count": 26,
   "id": "0eb16590",
   "metadata": {},
   "outputs": [
    {
     "name": "stdout",
     "output_type": "stream",
     "text": [
      "['rizwan' 'rizwan' 'rizwan' 'rizwan' 'rizwan' 'rizwan' 'rizwan' 'rizwan'\n",
      " 'rizwan' 'rizwan' 'rizwan' 'rizwan' 'rizwan' 'rizwan' 'rizwan' 'rizwan'\n",
      " 'rizwan' 'rizwan' 'rizwan' 'rizwan' 'rizwan' 'rizwan' 'rizwan' 'rizwan'\n",
      " 'rizwan' 'rizwan' 'rizwan' 'rizwan' 'rizwan' 'rizwan' 'rizwan' 'rizwan'\n",
      " 'rizwan' 'rizwan' 'rizwan' 'rizwan' 'rizwan' 'rizwan' 'rizwan' 'rizwan'\n",
      " 'rizwan' 'rizwan' 'rizwan' 'rizwan' 'rizwan' 'rizwan' 'rizwan' 'rizwan'\n",
      " 'rizwan' 'rizwan' 'rizwan' 'rizwan' 'rizwan' 'rizwan' 'rizwan' 'rizwan'\n",
      " 'rizwan' 'rizwan' 'rizwan' 'rizwan' 'rizwan' 'rizwan' 'rizwan' 'rizwan'\n",
      " 'rizwan' 'rizwan' 'rizwan' 'rizwan' 'rizwan' 'rizwan' 'rizwan' 'rizwan'\n",
      " 'rizwan' 'rizwan' 'rizwan' 'rizwan' 'rizwan' 'rizwan' 'rizwan' 'rizwan'\n",
      " 'rizwan' 'rizwan' 'rizwan' 'rizwan' 'rizwan' 'rizwan' 'rizwan' 'rizwan'\n",
      " 'rizwan' 'rizwan' 'rizwan' 'rizwan' 'rizwan' 'rizwan' 'rizwan' 'rizwan'\n",
      " 'rizwan' 'rizwan' 'rizwan']\n"
     ]
    }
   ],
   "source": [
    "f = np.full(99,\"rizwan\")\n",
    "print(f)"
   ]
  },
  {
   "cell_type": "code",
   "execution_count": 27,
   "id": "0769c8ec",
   "metadata": {},
   "outputs": [
    {
     "data": {
      "text/plain": [
       "99"
      ]
     },
     "execution_count": 27,
     "metadata": {},
     "output_type": "execute_result"
    }
   ],
   "source": [
    "f.size"
   ]
  },
  {
   "cell_type": "code",
   "execution_count": 37,
   "id": "3319e44d",
   "metadata": {},
   "outputs": [
    {
     "name": "stdout",
     "output_type": "stream",
     "text": [
      "[['hey' 'hey' 'hey' 'hey' 'hey' 'hey']\n",
      " ['hey' 'hey' 'hey' 'hey' 'hey' 'hey']\n",
      " ['hey' 'hey' 'hey' 'hey' 'hey' 'hey']\n",
      " ['hey' 'hey' 'hey' 'hey' 'hey' 'hey']\n",
      " ['hey' 'hey' 'hey' 'hey' 'hey' 'hey']\n",
      " ['hey' 'hey' 'hey' 'hey' 'hey' 'hey']]\n"
     ]
    }
   ],
   "source": [
    "fu = np.full((6,6),\"hey\")\n",
    "print(fu)"
   ]
  },
  {
   "cell_type": "code",
   "execution_count": 38,
   "id": "3092affb",
   "metadata": {},
   "outputs": [
    {
     "name": "stdout",
     "output_type": "stream",
     "text": [
      "[['12' '12' '12' '12' '12' '12']\n",
      " ['12' '12' '12' '12' '12' '12']\n",
      " ['12' '12' '12' '12' '12' '12']\n",
      " ['12' '12' '12' '12' '12' '12']\n",
      " ['12' '12' '12' '12' '12' '12']\n",
      " ['12' '12' '12' '12' '12' '12']]\n"
     ]
    }
   ],
   "source": [
    "fu.fill(12)\n",
    "# fu.dtype=\"float\"\n",
    "print(fu)"
   ]
  },
  {
   "cell_type": "code",
   "execution_count": 34,
   "id": "66dbe191",
   "metadata": {},
   "outputs": [
    {
     "name": "stdout",
     "output_type": "stream",
     "text": [
      "[ 10.     15.625  21.25   26.875  32.5    38.125  43.75   49.375  55.\n",
      "  60.625  66.25   71.875  77.5    83.125  88.75   94.375 100.   ]\n"
     ]
    }
   ],
   "source": [
    "# USING LINEAR SPACE\n",
    "\n",
    "ln = np.linspace(10,100,17)\n",
    "print(ln)"
   ]
  },
  {
   "cell_type": "code",
   "execution_count": 25,
   "id": "fef0a38b",
   "metadata": {},
   "outputs": [
    {
     "name": "stdout",
     "output_type": "stream",
     "text": [
      "[ 1  2  3  4  5  6  7  8  9 10 11 12 13 14 15 16 17 18 19 20 21 22 23 24\n",
      " 25 26 27 28 29 30 31 32 33 34 35 36 37 38 39 40 41 42 43 44 45 46 47 48\n",
      " 49 50 51 52 53 54 55 56 57 58 59 60 61 62 63 64 65 66 67 68 69 70 71 72\n",
      " 73 74 75 76 77 78 79 80 81 82 83 84 85 86 87 88 89 90 91 92 93 94 95 96\n",
      " 97 98 99]\n"
     ]
    }
   ],
   "source": [
    "print(np.arange(1,100))"
   ]
  },
  {
   "cell_type": "code",
   "execution_count": 27,
   "id": "09579f9b",
   "metadata": {},
   "outputs": [
    {
     "name": "stdout",
     "output_type": "stream",
     "text": [
      "[ 2  7 12 17 22 27 32 37 42 47 52 57 62 67 72 77 82 87 92 97]\n"
     ]
    }
   ],
   "source": [
    "print(np.arange(2,99,5))"
   ]
  },
  {
   "cell_type": "code",
   "execution_count": 28,
   "id": "363fedf9",
   "metadata": {},
   "outputs": [
    {
     "name": "stdout",
     "output_type": "stream",
     "text": [
      "[60 58 56 54 52 50 48 46 44 42 40 38 36 34 32 30 28 26 24 22 20 18 16 14]\n"
     ]
    }
   ],
   "source": [
    "print(np.arange(60,12,-2))"
   ]
  },
  {
   "cell_type": "code",
   "execution_count": 49,
   "id": "b83cc485",
   "metadata": {},
   "outputs": [
    {
     "name": "stdout",
     "output_type": "stream",
     "text": [
      "[['12' '12' '12' '12' '12' '12' '12' '12' '12' '12' '12' '12']\n",
      " ['12' '12' '12' '12' '12' '12' '12' '12' '12' '12' '12' '12']\n",
      " ['12' '12' '12' '12' '12' '12' '12' '12' '12' '12' '12' '12']]\n"
     ]
    }
   ],
   "source": [
    "fu = fu.reshape(3,12)\n",
    "print(fu)"
   ]
  },
  {
   "cell_type": "code",
   "execution_count": 43,
   "id": "f9e873c6",
   "metadata": {},
   "outputs": [
    {
     "data": {
      "text/plain": [
       "12"
      ]
     },
     "execution_count": 43,
     "metadata": {},
     "output_type": "execute_result"
    }
   ],
   "source": [
    "fu.itemsize\n"
   ]
  },
  {
   "cell_type": "code",
   "execution_count": 53,
   "id": "c20ccd83",
   "metadata": {},
   "outputs": [
    {
     "name": "stdout",
     "output_type": "stream",
     "text": [
      "[[ 1  2  3]\n",
      " [ 4  5  6]\n",
      " [11  4  2]\n",
      " [ 3  7  3]]\n"
     ]
    }
   ],
   "source": [
    "arr = np.array([[1,2,3],[4,5,6],[11,4,2],[3,7,3]])\n",
    "print(arr)"
   ]
  },
  {
   "cell_type": "code",
   "execution_count": 54,
   "id": "d79e7e9d",
   "metadata": {},
   "outputs": [
    {
     "name": "stdout",
     "output_type": "stream",
     "text": [
      "[[ 1  2]\n",
      " [ 3  4]\n",
      " [ 5  6]\n",
      " [11  4]\n",
      " [ 2  3]\n",
      " [ 7  3]]\n"
     ]
    }
   ],
   "source": [
    "arr = arr.reshape(6,2)\n",
    "print(arr)"
   ]
  },
  {
   "cell_type": "code",
   "execution_count": 13,
   "id": "99133d5b",
   "metadata": {},
   "outputs": [
    {
     "name": "stdout",
     "output_type": "stream",
     "text": [
      "3\n"
     ]
    }
   ],
   "source": [
    "# random module\n",
    "# random integer in a range\n",
    "import numpy as np\n",
    "\n",
    "rn = np.random.randint(10)\n",
    "print(rn)"
   ]
  },
  {
   "cell_type": "code",
   "execution_count": 39,
   "id": "edc47e9e",
   "metadata": {},
   "outputs": [
    {
     "name": "stdout",
     "output_type": "stream",
     "text": [
      "39\n"
     ]
    }
   ],
   "source": [
    "rn = np.random.randint(20,65)\n",
    "print(rn)"
   ]
  },
  {
   "cell_type": "code",
   "execution_count": 96,
   "id": "f2bcc01b",
   "metadata": {},
   "outputs": [
    {
     "name": "stdout",
     "output_type": "stream",
     "text": [
      "[[987 643 934 454]\n",
      " [200 312 654 587]\n",
      " [380 912 261 670]]\n"
     ]
    }
   ],
   "source": [
    "lw = 100 # lower range\n",
    "up = 1000 # upper range\n",
    "rn = np.random.randint(lw,up,12)\n",
    "rn = rn.reshape(3,4)\n",
    "print(rn)"
   ]
  },
  {
   "cell_type": "code",
   "execution_count": 97,
   "id": "562c5380",
   "metadata": {},
   "outputs": [
    {
     "data": {
      "text/plain": [
       "2"
      ]
     },
     "execution_count": 97,
     "metadata": {},
     "output_type": "execute_result"
    }
   ],
   "source": [
    "rn.ndim\n"
   ]
  },
  {
   "cell_type": "code",
   "execution_count": 100,
   "id": "99d5dee2",
   "metadata": {},
   "outputs": [
    {
     "name": "stdout",
     "output_type": "stream",
     "text": [
      "[[987 643 934 454]\n",
      " [200 312 654 587]\n",
      " [380 912 261 670]]\n"
     ]
    }
   ],
   "source": [
    "print(rn)"
   ]
  },
  {
   "cell_type": "code",
   "execution_count": 104,
   "id": "46174332",
   "metadata": {},
   "outputs": [
    {
     "data": {
      "text/plain": [
       "['__doc__',\n",
       " '__loader__',\n",
       " '__name__',\n",
       " '__package__',\n",
       " '__spec__',\n",
       " 'acos',\n",
       " 'acosh',\n",
       " 'asin',\n",
       " 'asinh',\n",
       " 'atan',\n",
       " 'atan2',\n",
       " 'atanh',\n",
       " 'ceil',\n",
       " 'comb',\n",
       " 'copysign',\n",
       " 'cos',\n",
       " 'cosh',\n",
       " 'degrees',\n",
       " 'dist',\n",
       " 'e',\n",
       " 'erf',\n",
       " 'erfc',\n",
       " 'exp',\n",
       " 'expm1',\n",
       " 'fabs',\n",
       " 'factorial',\n",
       " 'floor',\n",
       " 'fmod',\n",
       " 'frexp',\n",
       " 'fsum',\n",
       " 'gamma',\n",
       " 'gcd',\n",
       " 'hypot',\n",
       " 'inf',\n",
       " 'isclose',\n",
       " 'isfinite',\n",
       " 'isinf',\n",
       " 'isnan',\n",
       " 'isqrt',\n",
       " 'ldexp',\n",
       " 'lgamma',\n",
       " 'log',\n",
       " 'log10',\n",
       " 'log1p',\n",
       " 'log2',\n",
       " 'modf',\n",
       " 'nan',\n",
       " 'perm',\n",
       " 'pi',\n",
       " 'pow',\n",
       " 'prod',\n",
       " 'radians',\n",
       " 'remainder',\n",
       " 'sin',\n",
       " 'sinh',\n",
       " 'sqrt',\n",
       " 'tan',\n",
       " 'tanh',\n",
       " 'tau',\n",
       " 'trunc']"
      ]
     },
     "execution_count": 104,
     "metadata": {},
     "output_type": "execute_result"
    }
   ],
   "source": [
    "import math \n",
    "\n",
    "dir(math)"
   ]
  },
  {
   "cell_type": "code",
   "execution_count": 108,
   "id": "dba8f074",
   "metadata": {},
   "outputs": [
    {
     "name": "stdout",
     "output_type": "stream",
     "text": [
      "[[0.54374034 0.35347083 0.20708078 0.11671423]\n",
      " [0.44407867 0.78986102 0.51651067 0.01984212]\n",
      " [0.51082107 0.02087465 0.40592195 0.0163048 ]]\n"
     ]
    }
   ],
   "source": [
    "r = np.random.random((3,4)) # 0 to 1\n",
    "print(r)"
   ]
  },
  {
   "cell_type": "code",
   "execution_count": 113,
   "id": "adfb0226",
   "metadata": {},
   "outputs": [
    {
     "name": "stdout",
     "output_type": "stream",
     "text": [
      "[[0.53165579 0.18694467]\n",
      " [0.19227672 0.31420667]]\n"
     ]
    }
   ],
   "source": [
    "r = np.random.rand(2,2) # 0 to 1\n",
    "print(r)"
   ]
  },
  {
   "cell_type": "code",
   "execution_count": 117,
   "id": "f4c5613e",
   "metadata": {},
   "outputs": [
    {
     "name": "stdout",
     "output_type": "stream",
     "text": [
      "[[ 0.59692904 -0.45409349  0.28495068]\n",
      " [-0.38706776 -0.45466921  0.15679738]\n",
      " [ 1.50087396  0.02048711 -0.96964271]]\n"
     ]
    }
   ],
   "source": [
    "r = np.random.randn(3,3) # -1 to 1\n",
    "print(r)"
   ]
  },
  {
   "cell_type": "code",
   "execution_count": 128,
   "id": "14a75e04",
   "metadata": {},
   "outputs": [
    {
     "name": "stdout",
     "output_type": "stream",
     "text": [
      "[10.         10.11111111 10.22222222 10.33333333 10.44444444 10.55555556\n",
      " 10.66666667 10.77777778 10.88888889 11.        ]\n"
     ]
    }
   ],
   "source": [
    "r = np.linspace(10,11,10)\n",
    "print(r)"
   ]
  },
  {
   "cell_type": "markdown",
   "id": "dd1137cb",
   "metadata": {},
   "source": [
    "help(np.linspace)"
   ]
  },
  {
   "cell_type": "markdown",
   "id": "d0bebe19",
   "metadata": {},
   "source": [
    "#### Accesing the array elements \n",
    "- using index\n",
    "- index is of 3 types\n",
    "- +ve,-ve & fancy indexing\n",
    "    - +ve index : traverse from left to right starts from 0 to len(it)-1\n",
    "    - -ve index : traverse from right to left starts from -1 upto -ve infinite\n",
    "    - fancy : condition based indexing\n",
    "    "
   ]
  },
  {
   "cell_type": "code",
   "execution_count": 129,
   "id": "1abe82f0",
   "metadata": {},
   "outputs": [
    {
     "name": "stdout",
     "output_type": "stream",
     "text": [
      "[[1 2 3]\n",
      " [4 5 6]\n",
      " [7 8 9]]\n",
      "[[7 8 9]\n",
      " [2 5 7]\n",
      " [1 2 3]]\n"
     ]
    }
   ],
   "source": [
    "a1 = np.array([[1,2,3],[4,5,6],[7,8,9]])\n",
    "a2 = np.array([[7,8,9],[2,5,7],[1,2,3]])\n",
    "print(a1)\n",
    "print(a2)"
   ]
  },
  {
   "cell_type": "code",
   "execution_count": 134,
   "id": "028d57a6",
   "metadata": {},
   "outputs": [
    {
     "name": "stdout",
     "output_type": "stream",
     "text": [
      "[[ 98 143  69  66 124]\n",
      " [131  87 156 115 121]\n",
      " [ 97  82  80  54 187]\n",
      " [ 74  72 112  85 139]\n",
      " [ 80 171  77 191  63]]\n"
     ]
    }
   ],
   "source": [
    "r = np.random.randint(50,200,25).reshape(5,-1)\n",
    "print(r)"
   ]
  },
  {
   "cell_type": "code",
   "execution_count": 148,
   "id": "d234aff3",
   "metadata": {},
   "outputs": [
    {
     "name": "stdout",
     "output_type": "stream",
     "text": [
      "[[50 52 54 56 58]\n",
      " [60 62 64 66 68]\n",
      " [70 72 74 76 78]\n",
      " [80 82 84 86 88]\n",
      " [90 92 94 96 98]]\n"
     ]
    }
   ],
   "source": [
    "r1 = np.arange(50,100,2).reshape(-3,5)\n",
    "print(r1)"
   ]
  },
  {
   "cell_type": "code",
   "execution_count": 143,
   "id": "bc180e4d",
   "metadata": {},
   "outputs": [
    {
     "data": {
      "text/plain": [
       "array([80, 82, 84, 86, 88])"
      ]
     },
     "execution_count": 143,
     "metadata": {},
     "output_type": "execute_result"
    }
   ],
   "source": [
    "r1[3]"
   ]
  },
  {
   "cell_type": "code",
   "execution_count": 149,
   "id": "8441e8ff",
   "metadata": {},
   "outputs": [
    {
     "data": {
      "text/plain": [
       "array([[50, 52, 54, 56, 58],\n",
       "       [60, 62, 64, 66, 68],\n",
       "       [70, 72, 74, 76, 78],\n",
       "       [80, 82, 84, 86, 88],\n",
       "       [90, 92, 94, 96, 98]])"
      ]
     },
     "execution_count": 149,
     "metadata": {},
     "output_type": "execute_result"
    }
   ],
   "source": [
    "r1[:]"
   ]
  },
  {
   "cell_type": "code",
   "execution_count": 150,
   "id": "128b21ab",
   "metadata": {},
   "outputs": [
    {
     "data": {
      "text/plain": [
       "array([[50, 52, 54, 56, 58],\n",
       "       [60, 62, 64, 66, 68],\n",
       "       [70, 72, 74, 76, 78],\n",
       "       [80, 82, 84, 86, 88],\n",
       "       [90, 92, 94, 96, 98]])"
      ]
     },
     "execution_count": 150,
     "metadata": {},
     "output_type": "execute_result"
    }
   ],
   "source": [
    "r1[::]"
   ]
  },
  {
   "cell_type": "code",
   "execution_count": 151,
   "id": "ac8a0c70",
   "metadata": {},
   "outputs": [
    {
     "data": {
      "text/plain": [
       "array([[50, 52, 54, 56, 58],\n",
       "       [70, 72, 74, 76, 78],\n",
       "       [90, 92, 94, 96, 98]])"
      ]
     },
     "execution_count": 151,
     "metadata": {},
     "output_type": "execute_result"
    }
   ],
   "source": [
    "r1[::2]"
   ]
  },
  {
   "cell_type": "code",
   "execution_count": 157,
   "id": "c5a939bb",
   "metadata": {},
   "outputs": [
    {
     "data": {
      "text/plain": [
       "array([[52, 54, 56],\n",
       "       [62, 64, 66],\n",
       "       [72, 74, 76],\n",
       "       [82, 84, 86],\n",
       "       [92, 94, 96]])"
      ]
     },
     "execution_count": 157,
     "metadata": {},
     "output_type": "execute_result"
    }
   ],
   "source": [
    "r1[:,1:4]"
   ]
  },
  {
   "cell_type": "code",
   "execution_count": 154,
   "id": "7d0cd50f",
   "metadata": {},
   "outputs": [
    {
     "data": {
      "text/plain": [
       "array([[50, 52, 54, 56, 58],\n",
       "       [80, 82, 84, 86, 88]])"
      ]
     },
     "execution_count": 154,
     "metadata": {},
     "output_type": "execute_result"
    }
   ],
   "source": [
    "r1[::3]"
   ]
  },
  {
   "cell_type": "code",
   "execution_count": 155,
   "id": "af08e311",
   "metadata": {},
   "outputs": [
    {
     "data": {
      "text/plain": [
       "array([[50, 52, 54, 56, 58],\n",
       "       [60, 62, 64, 66, 68],\n",
       "       [70, 72, 74, 76, 78],\n",
       "       [80, 82, 84, 86, 88],\n",
       "       [90, 92, 94, 96, 98]])"
      ]
     },
     "execution_count": 155,
     "metadata": {},
     "output_type": "execute_result"
    }
   ],
   "source": [
    "r1\n"
   ]
  },
  {
   "cell_type": "code",
   "execution_count": 158,
   "id": "664f9d9a",
   "metadata": {},
   "outputs": [
    {
     "name": "stdout",
     "output_type": "stream",
     "text": [
      "[50 52 54 56 58]\n",
      "50\n",
      "52\n",
      "54\n",
      "56\n",
      "58\n",
      "[60 62 64 66 68]\n",
      "60\n",
      "62\n",
      "64\n",
      "66\n",
      "68\n",
      "[70 72 74 76 78]\n",
      "70\n",
      "72\n",
      "74\n",
      "76\n",
      "78\n",
      "[80 82 84 86 88]\n",
      "80\n",
      "82\n",
      "84\n",
      "86\n",
      "88\n",
      "[90 92 94 96 98]\n",
      "90\n",
      "92\n",
      "94\n",
      "96\n",
      "98\n"
     ]
    }
   ],
   "source": [
    "for i in r1:\n",
    "    print(i)\n",
    "    for j in i:\n",
    "        print(j)"
   ]
  },
  {
   "cell_type": "code",
   "execution_count": 159,
   "id": "51e880a4",
   "metadata": {},
   "outputs": [
    {
     "data": {
      "text/plain": [
       "array([[62, 66],\n",
       "       [82, 86]])"
      ]
     },
     "execution_count": 159,
     "metadata": {},
     "output_type": "execute_result"
    }
   ],
   "source": [
    "r1[1:4:2,1:4:2]"
   ]
  },
  {
   "cell_type": "code",
   "execution_count": 160,
   "id": "ed298c18",
   "metadata": {},
   "outputs": [
    {
     "data": {
      "text/plain": [
       "array([[50, 52, 54, 56, 58],\n",
       "       [60, 62, 64, 66, 68],\n",
       "       [70, 72, 74, 76, 78],\n",
       "       [80, 82, 84, 86, 88],\n",
       "       [90, 92, 94, 96, 98]])"
      ]
     },
     "execution_count": 160,
     "metadata": {},
     "output_type": "execute_result"
    }
   ],
   "source": [
    "r1"
   ]
  },
  {
   "cell_type": "code",
   "execution_count": 161,
   "id": "273ad84e",
   "metadata": {},
   "outputs": [
    {
     "data": {
      "text/plain": [
       "array([[50, 54, 58],\n",
       "       [70, 74, 78],\n",
       "       [90, 94, 98]])"
      ]
     },
     "execution_count": 161,
     "metadata": {},
     "output_type": "execute_result"
    }
   ],
   "source": [
    "## alternae rows and cols\n",
    "r1[::2,::2]"
   ]
  },
  {
   "cell_type": "code",
   "execution_count": 162,
   "id": "2230f5be",
   "metadata": {},
   "outputs": [
    {
     "data": {
      "text/plain": [
       "array([[50, 60, 70, 80, 90],\n",
       "       [52, 62, 72, 82, 92],\n",
       "       [54, 64, 74, 84, 94],\n",
       "       [56, 66, 76, 86, 96],\n",
       "       [58, 68, 78, 88, 98]])"
      ]
     },
     "execution_count": 162,
     "metadata": {},
     "output_type": "execute_result"
    }
   ],
   "source": [
    "r1.transpose()"
   ]
  },
  {
   "cell_type": "code",
   "execution_count": 163,
   "id": "3cb5be7a",
   "metadata": {},
   "outputs": [
    {
     "data": {
      "text/plain": [
       "array([[False, False, False, False, False],\n",
       "       [False, False, False, False, False],\n",
       "       [False, False, False, False, False],\n",
       "       [False, False, False, False, False],\n",
       "       [False, False, False, False, False]])"
      ]
     },
     "execution_count": 163,
     "metadata": {},
     "output_type": "execute_result"
    }
   ],
   "source": [
    "r1<10"
   ]
  },
  {
   "cell_type": "code",
   "execution_count": 164,
   "id": "1daf7a18",
   "metadata": {},
   "outputs": [
    {
     "data": {
      "text/plain": [
       "array([[False, False, False, False, False],\n",
       "       [False, False, False, False, False],\n",
       "       [False, False, False, False, False],\n",
       "       [False, False, False, False, False],\n",
       "       [False, False, False, False, False]])"
      ]
     },
     "execution_count": 164,
     "metadata": {},
     "output_type": "execute_result"
    }
   ],
   "source": [
    "r1>100"
   ]
  },
  {
   "cell_type": "code",
   "execution_count": 166,
   "id": "4c68f9ee",
   "metadata": {},
   "outputs": [
    {
     "data": {
      "text/plain": [
       "array([82, 84, 86, 88, 90, 92, 94, 96, 98])"
      ]
     },
     "execution_count": 166,
     "metadata": {},
     "output_type": "execute_result"
    }
   ],
   "source": [
    "r1[r1>80]"
   ]
  },
  {
   "cell_type": "code",
   "execution_count": 175,
   "id": "56bc7434",
   "metadata": {},
   "outputs": [
    {
     "name": "stdout",
     "output_type": "stream",
     "text": [
      "[[   1    8   81]\n",
      " [4096    5   36]]\n"
     ]
    }
   ],
   "source": [
    "a1 = np.array([[1,2,3],[4,5,6]])\n",
    "a2 = np.array([[5,3,4],[6,1,2]])\n",
    "# print(a1)\n",
    "# print(a2)\n",
    "print(a1**a2)"
   ]
  },
  {
   "cell_type": "code",
   "execution_count": 176,
   "id": "f1602ef5",
   "metadata": {},
   "outputs": [
    {
     "name": "stdout",
     "output_type": "stream",
     "text": [
      "[[0.14709393 0.2736167  0.57618391 0.67413059]\n",
      " [0.03939498 0.86268288 0.67797374 0.65543619]\n",
      " [0.78636322 0.09693706 0.24335051 0.60380138]\n",
      " [0.5776508  0.33016677 0.0018579  0.5886259 ]]\n"
     ]
    }
   ],
   "source": [
    "a3 = np.random.rand(4,4)\n",
    "print(a3)"
   ]
  },
  {
   "cell_type": "code",
   "execution_count": 208,
   "id": "d0fd6037",
   "metadata": {},
   "outputs": [
    {
     "name": "stdout",
     "output_type": "stream",
     "text": [
      "[[185 166 147  53]\n",
      " [182  72  83 224]\n",
      " [164  76 223 198]\n",
      " [ 92  57  70 129]]\n"
     ]
    }
   ],
   "source": [
    "a3 = np.random.randint(10,225,16).reshape(4,4)\n",
    "print(a3)"
   ]
  },
  {
   "cell_type": "code",
   "execution_count": 180,
   "id": "8bb9a841",
   "metadata": {},
   "outputs": [
    {
     "data": {
      "text/plain": [
       "187"
      ]
     },
     "execution_count": 180,
     "metadata": {},
     "output_type": "execute_result"
    }
   ],
   "source": [
    "a3.min()"
   ]
  },
  {
   "cell_type": "code",
   "execution_count": 181,
   "id": "ab0bf4d5",
   "metadata": {},
   "outputs": [
    {
     "data": {
      "text/plain": [
       "992"
      ]
     },
     "execution_count": 181,
     "metadata": {},
     "output_type": "execute_result"
    }
   ],
   "source": [
    "a3.max()"
   ]
  },
  {
   "cell_type": "code",
   "execution_count": 182,
   "id": "a1444f3c",
   "metadata": {
    "scrolled": true
   },
   "outputs": [
    {
     "name": "stdout",
     "output_type": "stream",
     "text": [
      "[[717 913 192 187]\n",
      " [274 609 599 649]\n",
      " [608 753 583 306]\n",
      " [879 992 786 942]]\n"
     ]
    }
   ],
   "source": [
    "print(a3)"
   ]
  },
  {
   "cell_type": "code",
   "execution_count": 185,
   "id": "0b72e528",
   "metadata": {},
   "outputs": [
    {
     "data": {
      "text/plain": [
       "array([[717, 913, 192, 187],\n",
       "       [274, 609, 599, 649],\n",
       "       [608, 753, 583, 306],\n",
       "       [879, 992, 786, 942]])"
      ]
     },
     "execution_count": 185,
     "metadata": {},
     "output_type": "execute_result"
    }
   ],
   "source": [
    "a3"
   ]
  },
  {
   "cell_type": "code",
   "execution_count": 245,
   "id": "d8d0d38d",
   "metadata": {},
   "outputs": [
    {
     "name": "stdout",
     "output_type": "stream",
     "text": [
      "[[3750405 3864368 1630927 1668474]\n",
      " [1574816 2876961 3812407 2456224]\n",
      " [1277649 1070339 4358369 4616551]\n",
      " [4295925 3263024  227628 3774188]]\n",
      "227628\n",
      "4616551\n"
     ]
    }
   ],
   "source": [
    "a3 = np.random.randint(7667,4747438,16).reshape(4,4)\n",
    "print(a3)\n",
    "print(a3.min())\n",
    "print(a3.max())"
   ]
  },
  {
   "cell_type": "code",
   "execution_count": 253,
   "id": "ea33a584",
   "metadata": {},
   "outputs": [
    {
     "data": {
      "text/plain": [
       "2.0"
      ]
     },
     "execution_count": 253,
     "metadata": {},
     "output_type": "execute_result"
    }
   ],
   "source": [
    "np.log(100)"
   ]
  },
  {
   "cell_type": "code",
   "execution_count": 248,
   "id": "5bfe7b2b",
   "metadata": {},
   "outputs": [
    {
     "name": "stderr",
     "output_type": "stream",
     "text": [
      "<ipython-input-248-f6e7c0610b57>:1: RuntimeWarning: divide by zero encountered in log\n",
      "  np.log(0)\n"
     ]
    },
    {
     "data": {
      "text/plain": [
       "-inf"
      ]
     },
     "execution_count": 248,
     "metadata": {},
     "output_type": "execute_result"
    }
   ],
   "source": [
    "np.log(0)"
   ]
  },
  {
   "cell_type": "code",
   "execution_count": 254,
   "id": "723aa900",
   "metadata": {},
   "outputs": [
    {
     "data": {
      "text/plain": [
       "10.000000000000002"
      ]
     },
     "execution_count": 254,
     "metadata": {},
     "output_type": "execute_result"
    }
   ],
   "source": [
    "np.exp(np.log(10))"
   ]
  },
  {
   "cell_type": "code",
   "execution_count": 257,
   "id": "02c9dec9",
   "metadata": {},
   "outputs": [
    {
     "data": {
      "text/plain": [
       "4.342944819032518"
      ]
     },
     "execution_count": 257,
     "metadata": {},
     "output_type": "execute_result"
    }
   ],
   "source": [
    "np.log10(np.exp(10))"
   ]
  },
  {
   "cell_type": "code",
   "execution_count": 262,
   "id": "4bc4d747",
   "metadata": {},
   "outputs": [
    {
     "name": "stdout",
     "output_type": "stream",
     "text": [
      "9 10 4 "
     ]
    }
   ],
   "source": [
    "## program\n",
    "\n",
    "def maxi(a,b):\n",
    "#     print(a)\n",
    "#     print(b)\n",
    "    for i in range(len(a)):\n",
    "        if a[i]>b[i]:\n",
    "            print(a[i],end=\" \")\n",
    "        else:\n",
    "            print(b[i],end=\" \")\n",
    "            \n",
    "maxi([9,3,1],[4,10,4])"
   ]
  },
  {
   "cell_type": "markdown",
   "id": "659a2b02",
   "metadata": {},
   "source": [
    "### VECTORIZED FUNCTIONS IN NUMPY"
   ]
  },
  {
   "cell_type": "code",
   "execution_count": 264,
   "id": "b50f4814",
   "metadata": {},
   "outputs": [
    {
     "data": {
      "text/plain": [
       "array([ 9, 10,  4])"
      ]
     },
     "execution_count": 264,
     "metadata": {},
     "output_type": "execute_result"
    }
   ],
   "source": [
    "def greater(a,b):\n",
    "    if a>b:\n",
    "        return a\n",
    "    else:\n",
    "        return b\n",
    "\n",
    "g = np.vectorize(greater)\n",
    "g([9,3,1],[4,10,4])"
   ]
  },
  {
   "cell_type": "code",
   "execution_count": 265,
   "id": "19408f6a",
   "metadata": {},
   "outputs": [
    {
     "name": "stdout",
     "output_type": "stream",
     "text": [
      "Help on class vectorize in module numpy:\n",
      "\n",
      "class vectorize(builtins.object)\n",
      " |  vectorize(pyfunc, otypes=None, doc=None, excluded=None, cache=False, signature=None)\n",
      " |  \n",
      " |  vectorize(pyfunc, otypes=None, doc=None, excluded=None, cache=False,\n",
      " |            signature=None)\n",
      " |  \n",
      " |  Generalized function class.\n",
      " |  \n",
      " |  Define a vectorized function which takes a nested sequence of objects or\n",
      " |  numpy arrays as inputs and returns a single numpy array or a tuple of numpy\n",
      " |  arrays. The vectorized function evaluates `pyfunc` over successive tuples\n",
      " |  of the input arrays like the python map function, except it uses the\n",
      " |  broadcasting rules of numpy.\n",
      " |  \n",
      " |  The data type of the output of `vectorized` is determined by calling\n",
      " |  the function with the first element of the input.  This can be avoided\n",
      " |  by specifying the `otypes` argument.\n",
      " |  \n",
      " |  Parameters\n",
      " |  ----------\n",
      " |  pyfunc : callable\n",
      " |      A python function or method.\n",
      " |  otypes : str or list of dtypes, optional\n",
      " |      The output data type. It must be specified as either a string of\n",
      " |      typecode characters or a list of data type specifiers. There should\n",
      " |      be one data type specifier for each output.\n",
      " |  doc : str, optional\n",
      " |      The docstring for the function. If None, the docstring will be the\n",
      " |      ``pyfunc.__doc__``.\n",
      " |  excluded : set, optional\n",
      " |      Set of strings or integers representing the positional or keyword\n",
      " |      arguments for which the function will not be vectorized.  These will be\n",
      " |      passed directly to `pyfunc` unmodified.\n",
      " |  \n",
      " |      .. versionadded:: 1.7.0\n",
      " |  \n",
      " |  cache : bool, optional\n",
      " |      If `True`, then cache the first function call that determines the number\n",
      " |      of outputs if `otypes` is not provided.\n",
      " |  \n",
      " |      .. versionadded:: 1.7.0\n",
      " |  \n",
      " |  signature : string, optional\n",
      " |      Generalized universal function signature, e.g., ``(m,n),(n)->(m)`` for\n",
      " |      vectorized matrix-vector multiplication. If provided, ``pyfunc`` will\n",
      " |      be called with (and expected to return) arrays with shapes given by the\n",
      " |      size of corresponding core dimensions. By default, ``pyfunc`` is\n",
      " |      assumed to take scalars as input and output.\n",
      " |  \n",
      " |      .. versionadded:: 1.12.0\n",
      " |  \n",
      " |  Returns\n",
      " |  -------\n",
      " |  vectorized : callable\n",
      " |      Vectorized function.\n",
      " |  \n",
      " |  See Also\n",
      " |  --------\n",
      " |  frompyfunc : Takes an arbitrary Python function and returns a ufunc\n",
      " |  \n",
      " |  Notes\n",
      " |  -----\n",
      " |  The `vectorize` function is provided primarily for convenience, not for\n",
      " |  performance. The implementation is essentially a for loop.\n",
      " |  \n",
      " |  If `otypes` is not specified, then a call to the function with the\n",
      " |  first argument will be used to determine the number of outputs.  The\n",
      " |  results of this call will be cached if `cache` is `True` to prevent\n",
      " |  calling the function twice.  However, to implement the cache, the\n",
      " |  original function must be wrapped which will slow down subsequent\n",
      " |  calls, so only do this if your function is expensive.\n",
      " |  \n",
      " |  The new keyword argument interface and `excluded` argument support\n",
      " |  further degrades performance.\n",
      " |  \n",
      " |  References\n",
      " |  ----------\n",
      " |  .. [1] :doc:`/reference/c-api/generalized-ufuncs`\n",
      " |  \n",
      " |  Examples\n",
      " |  --------\n",
      " |  >>> def myfunc(a, b):\n",
      " |  ...     \"Return a-b if a>b, otherwise return a+b\"\n",
      " |  ...     if a > b:\n",
      " |  ...         return a - b\n",
      " |  ...     else:\n",
      " |  ...         return a + b\n",
      " |  \n",
      " |  >>> vfunc = np.vectorize(myfunc)\n",
      " |  >>> vfunc([1, 2, 3, 4], 2)\n",
      " |  array([3, 4, 1, 2])\n",
      " |  \n",
      " |  The docstring is taken from the input function to `vectorize` unless it\n",
      " |  is specified:\n",
      " |  \n",
      " |  >>> vfunc.__doc__\n",
      " |  'Return a-b if a>b, otherwise return a+b'\n",
      " |  >>> vfunc = np.vectorize(myfunc, doc='Vectorized `myfunc`')\n",
      " |  >>> vfunc.__doc__\n",
      " |  'Vectorized `myfunc`'\n",
      " |  \n",
      " |  The output type is determined by evaluating the first element of the input,\n",
      " |  unless it is specified:\n",
      " |  \n",
      " |  >>> out = vfunc([1, 2, 3, 4], 2)\n",
      " |  >>> type(out[0])\n",
      " |  <class 'numpy.int64'>\n",
      " |  >>> vfunc = np.vectorize(myfunc, otypes=[float])\n",
      " |  >>> out = vfunc([1, 2, 3, 4], 2)\n",
      " |  >>> type(out[0])\n",
      " |  <class 'numpy.float64'>\n",
      " |  \n",
      " |  The `excluded` argument can be used to prevent vectorizing over certain\n",
      " |  arguments.  This can be useful for array-like arguments of a fixed length\n",
      " |  such as the coefficients for a polynomial as in `polyval`:\n",
      " |  \n",
      " |  >>> def mypolyval(p, x):\n",
      " |  ...     _p = list(p)\n",
      " |  ...     res = _p.pop(0)\n",
      " |  ...     while _p:\n",
      " |  ...         res = res*x + _p.pop(0)\n",
      " |  ...     return res\n",
      " |  >>> vpolyval = np.vectorize(mypolyval, excluded=['p'])\n",
      " |  >>> vpolyval(p=[1, 2, 3], x=[0, 1])\n",
      " |  array([3, 6])\n",
      " |  \n",
      " |  Positional arguments may also be excluded by specifying their position:\n",
      " |  \n",
      " |  >>> vpolyval.excluded.add(0)\n",
      " |  >>> vpolyval([1, 2, 3], x=[0, 1])\n",
      " |  array([3, 6])\n",
      " |  \n",
      " |  The `signature` argument allows for vectorizing functions that act on\n",
      " |  non-scalar arrays of fixed length. For example, you can use it for a\n",
      " |  vectorized calculation of Pearson correlation coefficient and its p-value:\n",
      " |  \n",
      " |  >>> import scipy.stats\n",
      " |  >>> pearsonr = np.vectorize(scipy.stats.pearsonr,\n",
      " |  ...                 signature='(n),(n)->(),()')\n",
      " |  >>> pearsonr([[0, 1, 2, 3]], [[1, 2, 3, 4], [4, 3, 2, 1]])\n",
      " |  (array([ 1., -1.]), array([ 0.,  0.]))\n",
      " |  \n",
      " |  Or for a vectorized convolution:\n",
      " |  \n",
      " |  >>> convolve = np.vectorize(np.convolve, signature='(n),(m)->(k)')\n",
      " |  >>> convolve(np.eye(4), [1, 2, 1])\n",
      " |  array([[1., 2., 1., 0., 0., 0.],\n",
      " |         [0., 1., 2., 1., 0., 0.],\n",
      " |         [0., 0., 1., 2., 1., 0.],\n",
      " |         [0., 0., 0., 1., 2., 1.]])\n",
      " |  \n",
      " |  Methods defined here:\n",
      " |  \n",
      " |  __call__(self, *args, **kwargs)\n",
      " |      Return arrays with the results of `pyfunc` broadcast (vectorized) over\n",
      " |      `args` and `kwargs` not in `excluded`.\n",
      " |  \n",
      " |  __init__(self, pyfunc, otypes=None, doc=None, excluded=None, cache=False, signature=None)\n",
      " |      Initialize self.  See help(type(self)) for accurate signature.\n",
      " |  \n",
      " |  ----------------------------------------------------------------------\n",
      " |  Data descriptors defined here:\n",
      " |  \n",
      " |  __dict__\n",
      " |      dictionary for instance variables (if defined)\n",
      " |  \n",
      " |  __weakref__\n",
      " |      list of weak references to the object (if defined)\n",
      "\n"
     ]
    }
   ],
   "source": [
    "help(np.vectorize)"
   ]
  },
  {
   "cell_type": "code",
   "execution_count": null,
   "id": "b6acb694",
   "metadata": {},
   "outputs": [],
   "source": []
  }
 ],
 "metadata": {
  "kernelspec": {
   "display_name": "Python 3",
   "language": "python",
   "name": "python3"
  },
  "language_info": {
   "codemirror_mode": {
    "name": "ipython",
    "version": 3
   },
   "file_extension": ".py",
   "mimetype": "text/x-python",
   "name": "python",
   "nbconvert_exporter": "python",
   "pygments_lexer": "ipython3",
   "version": "3.8.8"
  }
 },
 "nbformat": 4,
 "nbformat_minor": 5
}
