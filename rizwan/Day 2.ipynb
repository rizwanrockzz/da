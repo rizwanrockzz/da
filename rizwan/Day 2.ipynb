{
 "cells": [
  {
   "cell_type": "markdown",
   "id": "ecce5b69",
   "metadata": {},
   "source": [
    "## PANDAS LIBRARY"
   ]
  },
  {
   "cell_type": "markdown",
   "id": "30ab2bee",
   "metadata": {},
   "source": [
    "- It is one of he most important modules of data science\n",
    "- Used to work with data in form of frames/tables\n",
    "- Stands for PanelData\n",
    "- Data Analysis,Manipulation and Cleaning\n",
    "    - Data Analysis means analysing the data\n",
    "        - Statistics of the data ,volume of the data etc\n",
    "    - Data Manpulation means transforming the data from one format to another\n",
    "        - Merging,Concatenating etc\n",
    "    - Data Cleaning means removing NULL data\n",
    "        - Null data means NAN(Not a Number)\n",
    "        \n",
    "- Data Structures in pandas\n",
    "    - Series\n",
    "        - Sequential Data\n",
    "    - DataFrame\n",
    "        - Data in tabular form i.e rows and coloums\n",
    "    "
   ]
  },
  {
   "cell_type": "code",
   "execution_count": null,
   "id": "803a8c4f",
   "metadata": {},
   "outputs": [],
   "source": [
    "# we can create series using str,tuple,list and dict"
   ]
  },
  {
   "cell_type": "code",
   "execution_count": 6,
   "id": "2cfb84a0",
   "metadata": {},
   "outputs": [],
   "source": [
    "import pandas as pd"
   ]
  },
  {
   "cell_type": "code",
   "execution_count": 7,
   "id": "da20418a",
   "metadata": {},
   "outputs": [
    {
     "data": {
      "text/plain": [
       "0    I am Rizwan\n",
       "dtype: object"
      ]
     },
     "execution_count": 7,
     "metadata": {},
     "output_type": "execute_result"
    }
   ],
   "source": [
    "# with string\n",
    "st = \"I am Rizwan\"\n",
    "pd.Series(st)"
   ]
  },
  {
   "cell_type": "code",
   "execution_count": 10,
   "id": "4be4082f",
   "metadata": {},
   "outputs": [
    {
     "name": "stdout",
     "output_type": "stream",
     "text": [
      "Enter a sentence : hi how are u\n",
      "0     hi\n",
      "1    how\n",
      "2    are\n",
      "3      u\n",
      "dtype: object\n"
     ]
    }
   ],
   "source": [
    "# input and split\n",
    "li = input(\"Enter a sentence : \").split()\n",
    "print(pd.Series(li))\n"
   ]
  },
  {
   "cell_type": "code",
   "execution_count": 14,
   "id": "e0739921",
   "metadata": {},
   "outputs": [
    {
     "data": {
      "text/plain": [
       "0    10\n",
       "1    13\n",
       "2    16\n",
       "3    19\n",
       "4    22\n",
       "5    25\n",
       "6    28\n",
       "dtype: int64"
      ]
     },
     "execution_count": 14,
     "metadata": {},
     "output_type": "execute_result"
    }
   ],
   "source": [
    "pd.Series(range(10,30,3))"
   ]
  },
  {
   "cell_type": "code",
   "execution_count": 13,
   "id": "851a0186",
   "metadata": {},
   "outputs": [
    {
     "data": {
      "text/plain": [
       "1                   one\n",
       "12                   13\n",
       "tuple    (hi, bye, 143)\n",
       "list          [1, 2, 3]\n",
       "rii           [0, 1, 9]\n",
       "dtype: object"
      ]
     },
     "execution_count": 13,
     "metadata": {},
     "output_type": "execute_result"
    }
   ],
   "source": [
    "d ={\"1\":\"one\",12:13,\"tuple\":(\"hi\",\"bye\",143),\"list\":[1,2,3],\"rii\":[0,1,9]}\n",
    "pd.Series(d)"
   ]
  },
  {
   "cell_type": "code",
   "execution_count": null,
   "id": "b849dd94",
   "metadata": {},
   "outputs": [],
   "source": [
    "d.index"
   ]
  },
  {
   "cell_type": "code",
   "execution_count": 19,
   "id": "b949cb34",
   "metadata": {},
   "outputs": [
    {
     "name": "stdout",
     "output_type": "stream",
     "text": [
      "0    10\n",
      "1    15\n",
      "2    20\n",
      "3    25\n",
      "4    30\n",
      "5    35\n",
      "6    40\n",
      "dtype: int32\n"
     ]
    }
   ],
   "source": [
    "import numpy as np\n",
    "\n",
    "ar = np.arange(10,41,5)\n",
    "a = pd.Series(ar)\n",
    "print(a)"
   ]
  },
  {
   "cell_type": "code",
   "execution_count": 22,
   "id": "47b4b82b",
   "metadata": {},
   "outputs": [
    {
     "data": {
      "text/plain": [
       "Int64Index([6, 5, 2, 1, 3, 0, 4], dtype='int64')"
      ]
     },
     "execution_count": 22,
     "metadata": {},
     "output_type": "execute_result"
    }
   ],
   "source": [
    "a.index"
   ]
  },
  {
   "cell_type": "code",
   "execution_count": 21,
   "id": "6f0a517f",
   "metadata": {},
   "outputs": [],
   "source": [
    "a.index = [6,5,2,1,3,0,4]"
   ]
  },
  {
   "cell_type": "code",
   "execution_count": 24,
   "id": "a1d3ca0f",
   "metadata": {},
   "outputs": [
    {
     "name": "stdout",
     "output_type": "stream",
     "text": [
      "35\n",
      "25\n",
      "20\n",
      "30\n",
      "40\n",
      "15\n",
      "10\n"
     ]
    }
   ],
   "source": [
    "for i in range(len(a)):\n",
    "    print(a[i])"
   ]
  },
  {
   "cell_type": "code",
   "execution_count": 25,
   "id": "e8a95bbf",
   "metadata": {},
   "outputs": [
    {
     "data": {
      "text/plain": [
       "0    35\n",
       "1    25\n",
       "2    20\n",
       "3    30\n",
       "4    40\n",
       "5    15\n",
       "6    10\n",
       "dtype: int32"
      ]
     },
     "execution_count": 25,
     "metadata": {},
     "output_type": "execute_result"
    }
   ],
   "source": [
    "ind = [j for j in range(len(a))]\n",
    "pd.Series(a,index=ind)"
   ]
  },
  {
   "cell_type": "code",
   "execution_count": 28,
   "id": "93b2df46",
   "metadata": {},
   "outputs": [
    {
     "data": {
      "text/plain": [
       "a    1\n",
       "b    3\n",
       "z    5\n",
       "m    6\n",
       "dtype: int64"
      ]
     },
     "execution_count": 28,
     "metadata": {},
     "output_type": "execute_result"
    }
   ],
   "source": [
    "di = {\"a\":1,\"b\":3,\"z\":5,\"m\":6}\n",
    "pd.Series(di)"
   ]
  },
  {
   "cell_type": "code",
   "execution_count": 29,
   "id": "5aae7de9",
   "metadata": {},
   "outputs": [
    {
     "name": "stdout",
     "output_type": "stream",
     "text": [
      "z a m b\n"
     ]
    },
    {
     "data": {
      "text/plain": [
       "z    5\n",
       "a    1\n",
       "m    6\n",
       "b    3\n",
       "dtype: int64"
      ]
     },
     "execution_count": 29,
     "metadata": {},
     "output_type": "execute_result"
    }
   ],
   "source": [
    "di = {\"a\":1,\"b\":3,\"z\":5,\"m\":6}\n",
    "pd.Series(di,index=input().split())"
   ]
  },
  {
   "cell_type": "code",
   "execution_count": 32,
   "id": "ed7b0343",
   "metadata": {
    "scrolled": true
   },
   "outputs": [
    {
     "name": "stdout",
     "output_type": "stream",
     "text": [
      "a    1\n",
      "b    3\n",
      "z    5\n",
      "m    6\n",
      "dtype: int64\n",
      "3 1 2 0\n",
      "{'a': 1, 'b': 3, 'z': 5, 'm': 6}\n",
      "3    1\n",
      "1    3\n",
      "2    5\n",
      "0    6\n",
      "dtype: int64\n"
     ]
    }
   ],
   "source": [
    "di = {\"a\":1,\"b\":3,\"z\":5,\"m\":6}\n",
    "b = pd.Series(di)\n",
    "print(b)\n",
    "b.index=input().split()\n",
    "print(di)\n",
    "print(b)"
   ]
  },
  {
   "cell_type": "code",
   "execution_count": 34,
   "id": "27fe41b8",
   "metadata": {},
   "outputs": [
    {
     "data": {
      "text/plain": [
       "3    1\n",
       "1    3\n",
       "2    5\n",
       "0    6\n",
       "dtype: int64"
      ]
     },
     "execution_count": 34,
     "metadata": {},
     "output_type": "execute_result"
    }
   ],
   "source": [
    "b.index\n",
    "b"
   ]
  },
  {
   "cell_type": "code",
   "execution_count": 36,
   "id": "7f292c1d",
   "metadata": {},
   "outputs": [
    {
     "data": {
      "text/plain": [
       "2    5\n",
       "0    6\n",
       "dtype: int64"
      ]
     },
     "execution_count": 36,
     "metadata": {},
     "output_type": "execute_result"
    }
   ],
   "source": [
    "b[2:]"
   ]
  },
  {
   "cell_type": "markdown",
   "id": "16881c6a",
   "metadata": {},
   "source": [
    "## DataFrames\n",
    "\n",
    "- Data is 2d format"
   ]
  },
  {
   "cell_type": "code",
   "execution_count": 42,
   "id": "b9e4c510",
   "metadata": {},
   "outputs": [
    {
     "data": {
      "text/plain": [
       "{'a': 1, 'b': 3, 'z': 5, 'm': 6}"
      ]
     },
     "execution_count": 42,
     "metadata": {},
     "output_type": "execute_result"
    }
   ],
   "source": [
    "di"
   ]
  },
  {
   "cell_type": "code",
   "execution_count": 14,
   "id": "44643912",
   "metadata": {},
   "outputs": [
    {
     "data": {
      "text/html": [
       "<div>\n",
       "<style scoped>\n",
       "    .dataframe tbody tr th:only-of-type {\n",
       "        vertical-align: middle;\n",
       "    }\n",
       "\n",
       "    .dataframe tbody tr th {\n",
       "        vertical-align: top;\n",
       "    }\n",
       "\n",
       "    .dataframe thead th {\n",
       "        text-align: right;\n",
       "    }\n",
       "</style>\n",
       "<table border=\"1\" class=\"dataframe\">\n",
       "  <thead>\n",
       "    <tr style=\"text-align: right;\">\n",
       "      <th></th>\n",
       "      <th>1</th>\n",
       "      <th>12</th>\n",
       "      <th>tuple</th>\n",
       "      <th>list</th>\n",
       "      <th>rii</th>\n",
       "    </tr>\n",
       "  </thead>\n",
       "  <tbody>\n",
       "    <tr>\n",
       "      <th>0</th>\n",
       "      <td>one</td>\n",
       "      <td>13</td>\n",
       "      <td>hi</td>\n",
       "      <td>1</td>\n",
       "      <td>0</td>\n",
       "    </tr>\n",
       "    <tr>\n",
       "      <th>1</th>\n",
       "      <td>one</td>\n",
       "      <td>13</td>\n",
       "      <td>bye</td>\n",
       "      <td>2</td>\n",
       "      <td>1</td>\n",
       "    </tr>\n",
       "    <tr>\n",
       "      <th>2</th>\n",
       "      <td>one</td>\n",
       "      <td>13</td>\n",
       "      <td>143</td>\n",
       "      <td>3</td>\n",
       "      <td>9</td>\n",
       "    </tr>\n",
       "  </tbody>\n",
       "</table>\n",
       "</div>"
      ],
      "text/plain": [
       "     1  12 tuple  list  rii\n",
       "0  one  13    hi     1    0\n",
       "1  one  13   bye     2    1\n",
       "2  one  13   143     3    9"
      ]
     },
     "execution_count": 14,
     "metadata": {},
     "output_type": "execute_result"
    }
   ],
   "source": [
    "di3 = pd.DataFrame(d)\n",
    "di3"
   ]
  },
  {
   "cell_type": "code",
   "execution_count": 47,
   "id": "7e173b06",
   "metadata": {},
   "outputs": [
    {
     "data": {
      "text/html": [
       "<div>\n",
       "<style scoped>\n",
       "    .dataframe tbody tr th:only-of-type {\n",
       "        vertical-align: middle;\n",
       "    }\n",
       "\n",
       "    .dataframe tbody tr th {\n",
       "        vertical-align: top;\n",
       "    }\n",
       "\n",
       "    .dataframe thead th {\n",
       "        text-align: right;\n",
       "    }\n",
       "</style>\n",
       "<table border=\"1\" class=\"dataframe\">\n",
       "  <thead>\n",
       "    <tr style=\"text-align: right;\">\n",
       "      <th></th>\n",
       "      <th>a</th>\n",
       "      <th>b</th>\n",
       "      <th>z</th>\n",
       "      <th>m</th>\n",
       "    </tr>\n",
       "  </thead>\n",
       "  <tbody>\n",
       "    <tr>\n",
       "      <th>1</th>\n",
       "      <td>1</td>\n",
       "      <td>3</td>\n",
       "      <td>5</td>\n",
       "      <td>6</td>\n",
       "    </tr>\n",
       "    <tr>\n",
       "      <th>3</th>\n",
       "      <td>1</td>\n",
       "      <td>3</td>\n",
       "      <td>5</td>\n",
       "      <td>6</td>\n",
       "    </tr>\n",
       "    <tr>\n",
       "      <th>5</th>\n",
       "      <td>1</td>\n",
       "      <td>3</td>\n",
       "      <td>5</td>\n",
       "      <td>6</td>\n",
       "    </tr>\n",
       "    <tr>\n",
       "      <th>6</th>\n",
       "      <td>1</td>\n",
       "      <td>3</td>\n",
       "      <td>5</td>\n",
       "      <td>6</td>\n",
       "    </tr>\n",
       "  </tbody>\n",
       "</table>\n",
       "</div>"
      ],
      "text/plain": [
       "   a  b  z  m\n",
       "1  1  3  5  6\n",
       "3  1  3  5  6\n",
       "5  1  3  5  6\n",
       "6  1  3  5  6"
      ]
     },
     "execution_count": 47,
     "metadata": {},
     "output_type": "execute_result"
    }
   ],
   "source": [
    "pd.DataFrame(di,b)"
   ]
  },
  {
   "cell_type": "code",
   "execution_count": 5,
   "id": "3a52170e",
   "metadata": {},
   "outputs": [
    {
     "data": {
      "text/plain": [
       "{1: [1, 6, 7], 'hola': 'Hii', 'tup': (4, 3, 3), 4: 7, 100: 3}"
      ]
     },
     "execution_count": 5,
     "metadata": {},
     "output_type": "execute_result"
    }
   ],
   "source": [
    "di = {1:[1,6,7],\"hola\":\"Hii\",\"tup\":(4,3,3),4:7,100:3}\n",
    "di"
   ]
  },
  {
   "cell_type": "code",
   "execution_count": null,
   "id": "73d992ea",
   "metadata": {},
   "outputs": [],
   "source": [
    "di1=pd.DataFrame(di,index=input().split())\n",
    "di1"
   ]
  },
  {
   "cell_type": "code",
   "execution_count": 8,
   "id": "1e07d81b",
   "metadata": {},
   "outputs": [
    {
     "ename": "NameError",
     "evalue": "name 'd' is not defined",
     "output_type": "error",
     "traceback": [
      "\u001b[1;31m---------------------------------------------------------------------------\u001b[0m",
      "\u001b[1;31mNameError\u001b[0m                                 Traceback (most recent call last)",
      "\u001b[1;32m<ipython-input-8-c5056947018a>\u001b[0m in \u001b[0;36m<module>\u001b[1;34m\u001b[0m\n\u001b[1;32m----> 1\u001b[1;33m \u001b[0mpd\u001b[0m\u001b[1;33m.\u001b[0m\u001b[0mconcat\u001b[0m\u001b[1;33m(\u001b[0m\u001b[1;33m[\u001b[0m\u001b[0mdi\u001b[0m\u001b[1;33m,\u001b[0m\u001b[0md\u001b[0m\u001b[1;33m]\u001b[0m\u001b[1;33m)\u001b[0m\u001b[1;33m\u001b[0m\u001b[1;33m\u001b[0m\u001b[0m\n\u001b[0m",
      "\u001b[1;31mNameError\u001b[0m: name 'd' is not defined"
     ]
    }
   ],
   "source": [
    "pd.concat([di,d])"
   ]
  },
  {
   "cell_type": "code",
   "execution_count": 79,
   "id": "7cd00604",
   "metadata": {},
   "outputs": [
    {
     "data": {
      "text/plain": [
       "{1: [1, 6, 7], 'hola': 'Hii', 'tup': (4, 3, 3), 4: 7, 100: 3}"
      ]
     },
     "execution_count": 79,
     "metadata": {},
     "output_type": "execute_result"
    }
   ],
   "source": [
    "di"
   ]
  },
  {
   "cell_type": "code",
   "execution_count": 80,
   "id": "0b36b609",
   "metadata": {},
   "outputs": [
    {
     "data": {
      "text/plain": [
       "{'1': 'one',\n",
       " 12: 13,\n",
       " 'tuple': ('hi', 'bye', 143),\n",
       " 'list': [1, 2, 3],\n",
       " 'rii': [0, 1, 9]}"
      ]
     },
     "execution_count": 80,
     "metadata": {},
     "output_type": "execute_result"
    }
   ],
   "source": [
    "d"
   ]
  },
  {
   "cell_type": "code",
   "execution_count": 86,
   "id": "26860c4d",
   "metadata": {},
   "outputs": [],
   "source": [
    "l = (1,2,3,4,5)"
   ]
  },
  {
   "cell_type": "code",
   "execution_count": 93,
   "id": "d5ee026d",
   "metadata": {},
   "outputs": [
    {
     "data": {
      "text/plain": [
       "0    1\n",
       "1    2\n",
       "2    3\n",
       "3    4\n",
       "4    5\n",
       "dtype: int64"
      ]
     },
     "execution_count": 93,
     "metadata": {},
     "output_type": "execute_result"
    }
   ],
   "source": [
    "pd.Series(l)\n"
   ]
  },
  {
   "cell_type": "code",
   "execution_count": null,
   "id": "dac9a425",
   "metadata": {},
   "outputs": [],
   "source": [
    "pd.concat([l,di])"
   ]
  },
  {
   "cell_type": "code",
   "execution_count": 95,
   "id": "b2670a23",
   "metadata": {},
   "outputs": [
    {
     "data": {
      "text/plain": [
       "0    1\n",
       "1    2\n",
       "2    3\n",
       "3    4\n",
       "4    5\n",
       "dtype: int64"
      ]
     },
     "execution_count": 95,
     "metadata": {},
     "output_type": "execute_result"
    }
   ],
   "source": [
    "l"
   ]
  },
  {
   "cell_type": "code",
   "execution_count": null,
   "id": "061e30f6",
   "metadata": {},
   "outputs": [],
   "source": [
    "d1 = {\"a\":\"hero\",\"v\":[\"villan\",1],\"kgf\":[]"
   ]
  },
  {
   "cell_type": "code",
   "execution_count": 39,
   "id": "9d0af121",
   "metadata": {},
   "outputs": [
    {
     "data": {
      "text/html": [
       "<div>\n",
       "<style scoped>\n",
       "    .dataframe tbody tr th:only-of-type {\n",
       "        vertical-align: middle;\n",
       "    }\n",
       "\n",
       "    .dataframe tbody tr th {\n",
       "        vertical-align: top;\n",
       "    }\n",
       "\n",
       "    .dataframe thead th {\n",
       "        text-align: right;\n",
       "    }\n",
       "</style>\n",
       "<table border=\"1\" class=\"dataframe\">\n",
       "  <thead>\n",
       "    <tr style=\"text-align: right;\">\n",
       "      <th></th>\n",
       "      <th>r</th>\n",
       "      <th>i</th>\n",
       "      <th>rock</th>\n",
       "    </tr>\n",
       "  </thead>\n",
       "  <tbody>\n",
       "    <tr>\n",
       "      <th>4</th>\n",
       "      <td>1</td>\n",
       "      <td>10</td>\n",
       "      <td>14</td>\n",
       "    </tr>\n",
       "    <tr>\n",
       "      <th>2</th>\n",
       "      <td>2</td>\n",
       "      <td>13</td>\n",
       "      <td>9</td>\n",
       "    </tr>\n",
       "    <tr>\n",
       "      <th>6</th>\n",
       "      <td>3</td>\n",
       "      <td>14</td>\n",
       "      <td>3</td>\n",
       "    </tr>\n",
       "    <tr>\n",
       "      <th>7</th>\n",
       "      <td>4</td>\n",
       "      <td>9</td>\n",
       "      <td>4</td>\n",
       "    </tr>\n",
       "  </tbody>\n",
       "</table>\n",
       "</div>"
      ],
      "text/plain": [
       "   r   i  rock\n",
       "4  1  10    14\n",
       "2  2  13     9\n",
       "6  3  14     3\n",
       "7  4   9     4"
      ]
     },
     "execution_count": 39,
     "metadata": {},
     "output_type": "execute_result"
    }
   ],
   "source": [
    "import pandas as pd\n",
    "di2 = pd.DataFrame({\"r\":[1,2,3,4],\"i\":[10,13,14,9],\"rock\":[14,9,3,4]},index=[4,2,6,7])\n",
    "di2"
   ]
  },
  {
   "cell_type": "code",
   "execution_count": 17,
   "id": "2885a25a",
   "metadata": {},
   "outputs": [
    {
     "data": {
      "text/html": [
       "<div>\n",
       "<style scoped>\n",
       "    .dataframe tbody tr th:only-of-type {\n",
       "        vertical-align: middle;\n",
       "    }\n",
       "\n",
       "    .dataframe tbody tr th {\n",
       "        vertical-align: top;\n",
       "    }\n",
       "\n",
       "    .dataframe thead th {\n",
       "        text-align: right;\n",
       "    }\n",
       "</style>\n",
       "<table border=\"1\" class=\"dataframe\">\n",
       "  <thead>\n",
       "    <tr style=\"text-align: right;\">\n",
       "      <th></th>\n",
       "      <th>rate</th>\n",
       "      <th>riz</th>\n",
       "      <th>1</th>\n",
       "      <th>12</th>\n",
       "      <th>tuple</th>\n",
       "      <th>list</th>\n",
       "      <th>rii</th>\n",
       "    </tr>\n",
       "  </thead>\n",
       "  <tbody>\n",
       "    <tr>\n",
       "      <th>4</th>\n",
       "      <td>1</td>\n",
       "      <td>10</td>\n",
       "      <td>NaN</td>\n",
       "      <td>NaN</td>\n",
       "      <td>NaN</td>\n",
       "      <td>NaN</td>\n",
       "      <td>NaN</td>\n",
       "    </tr>\n",
       "    <tr>\n",
       "      <th>2</th>\n",
       "      <td>2</td>\n",
       "      <td>13</td>\n",
       "      <td>one</td>\n",
       "      <td>13.0</td>\n",
       "      <td>143</td>\n",
       "      <td>3.0</td>\n",
       "      <td>9.0</td>\n",
       "    </tr>\n",
       "    <tr>\n",
       "      <th>6</th>\n",
       "      <td>3</td>\n",
       "      <td>14</td>\n",
       "      <td>NaN</td>\n",
       "      <td>NaN</td>\n",
       "      <td>NaN</td>\n",
       "      <td>NaN</td>\n",
       "      <td>NaN</td>\n",
       "    </tr>\n",
       "    <tr>\n",
       "      <th>7</th>\n",
       "      <td>4</td>\n",
       "      <td>9</td>\n",
       "      <td>NaN</td>\n",
       "      <td>NaN</td>\n",
       "      <td>NaN</td>\n",
       "      <td>NaN</td>\n",
       "      <td>NaN</td>\n",
       "    </tr>\n",
       "  </tbody>\n",
       "</table>\n",
       "</div>"
      ],
      "text/plain": [
       "   rate  riz    1    12 tuple  list  rii\n",
       "4     1   10  NaN   NaN   NaN   NaN  NaN\n",
       "2     2   13  one  13.0   143   3.0  9.0\n",
       "6     3   14  NaN   NaN   NaN   NaN  NaN\n",
       "7     4    9  NaN   NaN   NaN   NaN  NaN"
      ]
     },
     "execution_count": 17,
     "metadata": {},
     "output_type": "execute_result"
    }
   ],
   "source": [
    "di2.join(di3)"
   ]
  },
  {
   "cell_type": "code",
   "execution_count": 18,
   "id": "5089f162",
   "metadata": {},
   "outputs": [
    {
     "data": {
      "text/html": [
       "<div>\n",
       "<style scoped>\n",
       "    .dataframe tbody tr th:only-of-type {\n",
       "        vertical-align: middle;\n",
       "    }\n",
       "\n",
       "    .dataframe tbody tr th {\n",
       "        vertical-align: top;\n",
       "    }\n",
       "\n",
       "    .dataframe thead th {\n",
       "        text-align: right;\n",
       "    }\n",
       "</style>\n",
       "<table border=\"1\" class=\"dataframe\">\n",
       "  <thead>\n",
       "    <tr style=\"text-align: right;\">\n",
       "      <th></th>\n",
       "      <th>1</th>\n",
       "      <th>12</th>\n",
       "      <th>tuple</th>\n",
       "      <th>list</th>\n",
       "      <th>rii</th>\n",
       "    </tr>\n",
       "  </thead>\n",
       "  <tbody>\n",
       "    <tr>\n",
       "      <th>0</th>\n",
       "      <td>one</td>\n",
       "      <td>13</td>\n",
       "      <td>hi</td>\n",
       "      <td>1</td>\n",
       "      <td>0</td>\n",
       "    </tr>\n",
       "    <tr>\n",
       "      <th>1</th>\n",
       "      <td>one</td>\n",
       "      <td>13</td>\n",
       "      <td>bye</td>\n",
       "      <td>2</td>\n",
       "      <td>1</td>\n",
       "    </tr>\n",
       "    <tr>\n",
       "      <th>2</th>\n",
       "      <td>one</td>\n",
       "      <td>13</td>\n",
       "      <td>143</td>\n",
       "      <td>3</td>\n",
       "      <td>9</td>\n",
       "    </tr>\n",
       "  </tbody>\n",
       "</table>\n",
       "</div>"
      ],
      "text/plain": [
       "     1  12 tuple  list  rii\n",
       "0  one  13    hi     1    0\n",
       "1  one  13   bye     2    1\n",
       "2  one  13   143     3    9"
      ]
     },
     "execution_count": 18,
     "metadata": {},
     "output_type": "execute_result"
    }
   ],
   "source": [
    "di3 = pd.DataFrame(d)\n",
    "di3"
   ]
  },
  {
   "cell_type": "code",
   "execution_count": 40,
   "id": "a805dce7",
   "metadata": {},
   "outputs": [
    {
     "data": {
      "text/html": [
       "<div>\n",
       "<style scoped>\n",
       "    .dataframe tbody tr th:only-of-type {\n",
       "        vertical-align: middle;\n",
       "    }\n",
       "\n",
       "    .dataframe tbody tr th {\n",
       "        vertical-align: top;\n",
       "    }\n",
       "\n",
       "    .dataframe thead th {\n",
       "        text-align: right;\n",
       "    }\n",
       "</style>\n",
       "<table border=\"1\" class=\"dataframe\">\n",
       "  <thead>\n",
       "    <tr style=\"text-align: right;\">\n",
       "      <th></th>\n",
       "      <th>r</th>\n",
       "      <th>i</th>\n",
       "      <th>z</th>\n",
       "    </tr>\n",
       "  </thead>\n",
       "  <tbody>\n",
       "    <tr>\n",
       "      <th>100</th>\n",
       "      <td>1</td>\n",
       "      <td>10</td>\n",
       "      <td>a</td>\n",
       "    </tr>\n",
       "    <tr>\n",
       "      <th>200</th>\n",
       "      <td>2</td>\n",
       "      <td>45</td>\n",
       "      <td>g</td>\n",
       "    </tr>\n",
       "    <tr>\n",
       "      <th>300</th>\n",
       "      <td>1</td>\n",
       "      <td>23</td>\n",
       "      <td>y</td>\n",
       "    </tr>\n",
       "    <tr>\n",
       "      <th>400</th>\n",
       "      <td>2</td>\n",
       "      <td>11</td>\n",
       "      <td>e</td>\n",
       "    </tr>\n",
       "  </tbody>\n",
       "</table>\n",
       "</div>"
      ],
      "text/plain": [
       "     r   i  z\n",
       "100  1  10  a\n",
       "200  2  45  g\n",
       "300  1  23  y\n",
       "400  2  11  e"
      ]
     },
     "execution_count": 40,
     "metadata": {},
     "output_type": "execute_result"
    }
   ],
   "source": [
    "di4 = pd.DataFrame({\"r\":[1,2,1,2],\"i\":[10,45,23,11],\"z\":[\"a\",\"g\",\"y\",\"e\"]},index=[100,200,300,400])\n",
    "di4"
   ]
  },
  {
   "cell_type": "code",
   "execution_count": 46,
   "id": "d92d7de1",
   "metadata": {},
   "outputs": [
    {
     "data": {
      "text/html": [
       "<div>\n",
       "<style scoped>\n",
       "    .dataframe tbody tr th:only-of-type {\n",
       "        vertical-align: middle;\n",
       "    }\n",
       "\n",
       "    .dataframe tbody tr th {\n",
       "        vertical-align: top;\n",
       "    }\n",
       "\n",
       "    .dataframe thead th {\n",
       "        text-align: right;\n",
       "    }\n",
       "</style>\n",
       "<table border=\"1\" class=\"dataframe\">\n",
       "  <thead>\n",
       "    <tr style=\"text-align: right;\">\n",
       "      <th></th>\n",
       "      <th>r</th>\n",
       "      <th>i</th>\n",
       "      <th>z</th>\n",
       "      <th>rock</th>\n",
       "    </tr>\n",
       "  </thead>\n",
       "  <tbody>\n",
       "    <tr>\n",
       "      <th>0</th>\n",
       "      <td>1</td>\n",
       "      <td>10</td>\n",
       "      <td>a</td>\n",
       "      <td>14</td>\n",
       "    </tr>\n",
       "  </tbody>\n",
       "</table>\n",
       "</div>"
      ],
      "text/plain": [
       "   r   i  z  rock\n",
       "0  1  10  a    14"
      ]
     },
     "execution_count": 46,
     "metadata": {},
     "output_type": "execute_result"
    }
   ],
   "source": [
    "a2 = di4.merge(di2)\n",
    "# a2.coloumns=[\"S\",\"U\",\"P\"]\n",
    "a2"
   ]
  },
  {
   "cell_type": "code",
   "execution_count": 47,
   "id": "e1741566",
   "metadata": {},
   "outputs": [
    {
     "data": {
      "text/html": [
       "<div>\n",
       "<style scoped>\n",
       "    .dataframe tbody tr th:only-of-type {\n",
       "        vertical-align: middle;\n",
       "    }\n",
       "\n",
       "    .dataframe tbody tr th {\n",
       "        vertical-align: top;\n",
       "    }\n",
       "\n",
       "    .dataframe thead th {\n",
       "        text-align: right;\n",
       "    }\n",
       "</style>\n",
       "<table border=\"1\" class=\"dataframe\">\n",
       "  <thead>\n",
       "    <tr style=\"text-align: right;\">\n",
       "      <th></th>\n",
       "      <th>r_x</th>\n",
       "      <th>i</th>\n",
       "      <th>z</th>\n",
       "      <th>r_y</th>\n",
       "      <th>rock</th>\n",
       "    </tr>\n",
       "  </thead>\n",
       "  <tbody>\n",
       "    <tr>\n",
       "      <th>0</th>\n",
       "      <td>1</td>\n",
       "      <td>10</td>\n",
       "      <td>a</td>\n",
       "      <td>1</td>\n",
       "      <td>14</td>\n",
       "    </tr>\n",
       "  </tbody>\n",
       "</table>\n",
       "</div>"
      ],
      "text/plain": [
       "   r_x   i  z  r_y  rock\n",
       "0    1  10  a    1    14"
      ]
     },
     "execution_count": 47,
     "metadata": {},
     "output_type": "execute_result"
    }
   ],
   "source": [
    "di4.merge(di2,on=\"i\")"
   ]
  },
  {
   "cell_type": "code",
   "execution_count": 48,
   "id": "e6a899a7",
   "metadata": {},
   "outputs": [
    {
     "data": {
      "text/html": [
       "<div>\n",
       "<style scoped>\n",
       "    .dataframe tbody tr th:only-of-type {\n",
       "        vertical-align: middle;\n",
       "    }\n",
       "\n",
       "    .dataframe tbody tr th {\n",
       "        vertical-align: top;\n",
       "    }\n",
       "\n",
       "    .dataframe thead th {\n",
       "        text-align: right;\n",
       "    }\n",
       "</style>\n",
       "<table border=\"1\" class=\"dataframe\">\n",
       "  <thead>\n",
       "    <tr style=\"text-align: right;\">\n",
       "      <th></th>\n",
       "      <th>r</th>\n",
       "      <th>i_x</th>\n",
       "      <th>z</th>\n",
       "      <th>i_y</th>\n",
       "      <th>rock</th>\n",
       "    </tr>\n",
       "  </thead>\n",
       "  <tbody>\n",
       "    <tr>\n",
       "      <th>0</th>\n",
       "      <td>1</td>\n",
       "      <td>10</td>\n",
       "      <td>a</td>\n",
       "      <td>10</td>\n",
       "      <td>14</td>\n",
       "    </tr>\n",
       "    <tr>\n",
       "      <th>1</th>\n",
       "      <td>1</td>\n",
       "      <td>23</td>\n",
       "      <td>y</td>\n",
       "      <td>10</td>\n",
       "      <td>14</td>\n",
       "    </tr>\n",
       "    <tr>\n",
       "      <th>2</th>\n",
       "      <td>2</td>\n",
       "      <td>45</td>\n",
       "      <td>g</td>\n",
       "      <td>13</td>\n",
       "      <td>9</td>\n",
       "    </tr>\n",
       "    <tr>\n",
       "      <th>3</th>\n",
       "      <td>2</td>\n",
       "      <td>11</td>\n",
       "      <td>e</td>\n",
       "      <td>13</td>\n",
       "      <td>9</td>\n",
       "    </tr>\n",
       "  </tbody>\n",
       "</table>\n",
       "</div>"
      ],
      "text/plain": [
       "   r  i_x  z  i_y  rock\n",
       "0  1   10  a   10    14\n",
       "1  1   23  y   10    14\n",
       "2  2   45  g   13     9\n",
       "3  2   11  e   13     9"
      ]
     },
     "execution_count": 48,
     "metadata": {},
     "output_type": "execute_result"
    }
   ],
   "source": [
    "di4.merge(di2,on=\"r\")"
   ]
  },
  {
   "cell_type": "code",
   "execution_count": 55,
   "id": "9b3f10f0",
   "metadata": {},
   "outputs": [
    {
     "data": {
      "text/plain": [
       "0     2022-01-01\n",
       "1     2022-01-02\n",
       "2     2022-01-03\n",
       "3     2022-01-04\n",
       "4     2022-01-05\n",
       "         ...    \n",
       "196   2022-07-16\n",
       "197   2022-07-17\n",
       "198   2022-07-18\n",
       "199   2022-07-19\n",
       "200   2022-07-20\n",
       "Length: 201, dtype: datetime64[ns]"
      ]
     },
     "execution_count": 55,
     "metadata": {},
     "output_type": "execute_result"
    }
   ],
   "source": [
    "dates = pd.date_range(\"2022-01-01\",\"2022-07-20\")\n",
    "pd.Series(dates)"
   ]
  },
  {
   "cell_type": "code",
   "execution_count": 63,
   "id": "b1a484d8",
   "metadata": {},
   "outputs": [
    {
     "data": {
      "text/plain": [
       "0   2022-07-20\n",
       "1   2022-07-21\n",
       "2   2022-07-22\n",
       "3   2022-07-23\n",
       "4   2022-07-24\n",
       "5   2022-07-25\n",
       "dtype: datetime64[ns]"
      ]
     },
     "execution_count": 63,
     "metadata": {},
     "output_type": "execute_result"
    }
   ],
   "source": [
    "d = pd.date_range(\"2022-07-20\",periods=6)\n",
    "pd.Series(d)\n",
    "# d"
   ]
  },
  {
   "cell_type": "code",
   "execution_count": 58,
   "id": "c4464ba7",
   "metadata": {},
   "outputs": [
    {
     "data": {
      "text/plain": [
       "2022-07-20    1\n",
       "2022-07-21    4\n",
       "2022-07-22    2\n",
       "2022-07-23    5\n",
       "2022-07-24    6\n",
       "2022-07-25    9\n",
       "Freq: D, dtype: int64"
      ]
     },
     "execution_count": 58,
     "metadata": {},
     "output_type": "execute_result"
    }
   ],
   "source": [
    "temp = [1,4,2,5,6,9]\n",
    "pd.Series(temp,index=d)"
   ]
  },
  {
   "cell_type": "code",
   "execution_count": null,
   "id": "502137b9",
   "metadata": {},
   "outputs": [],
   "source": [
    "d.index[3]"
   ]
  },
  {
   "cell_type": "code",
   "execution_count": 67,
   "id": "4ce5f895",
   "metadata": {},
   "outputs": [
    {
     "data": {
      "text/plain": [
       "300"
      ]
     },
     "execution_count": 67,
     "metadata": {},
     "output_type": "execute_result"
    }
   ],
   "source": [
    "di4.index[2]"
   ]
  },
  {
   "cell_type": "markdown",
   "id": "33100f2c",
   "metadata": {},
   "source": [
    "### WORKING WITH .csv FILE"
   ]
  },
  {
   "cell_type": "code",
   "execution_count": 137,
   "id": "eec29e69",
   "metadata": {},
   "outputs": [
    {
     "data": {
      "text/html": [
       "<div>\n",
       "<style scoped>\n",
       "    .dataframe tbody tr th:only-of-type {\n",
       "        vertical-align: middle;\n",
       "    }\n",
       "\n",
       "    .dataframe tbody tr th {\n",
       "        vertical-align: top;\n",
       "    }\n",
       "\n",
       "    .dataframe thead th {\n",
       "        text-align: right;\n",
       "    }\n",
       "</style>\n",
       "<table border=\"1\" class=\"dataframe\">\n",
       "  <thead>\n",
       "    <tr style=\"text-align: right;\">\n",
       "      <th></th>\n",
       "      <th>roll</th>\n",
       "      <th>name</th>\n",
       "      <th>maths</th>\n",
       "      <th>dms</th>\n",
       "      <th>os</th>\n",
       "      <th>co</th>\n",
       "    </tr>\n",
       "  </thead>\n",
       "  <tbody>\n",
       "    <tr>\n",
       "      <th>0</th>\n",
       "      <td>A1</td>\n",
       "      <td>Rizwan</td>\n",
       "      <td>91</td>\n",
       "      <td>93</td>\n",
       "      <td>95</td>\n",
       "      <td>80</td>\n",
       "    </tr>\n",
       "    <tr>\n",
       "      <th>1</th>\n",
       "      <td>A2</td>\n",
       "      <td>bro</td>\n",
       "      <td>81</td>\n",
       "      <td>93</td>\n",
       "      <td>95</td>\n",
       "      <td>78</td>\n",
       "    </tr>\n",
       "    <tr>\n",
       "      <th>2</th>\n",
       "      <td>A3</td>\n",
       "      <td>sai</td>\n",
       "      <td>91</td>\n",
       "      <td>96</td>\n",
       "      <td>95</td>\n",
       "      <td>89</td>\n",
       "    </tr>\n",
       "    <tr>\n",
       "      <th>3</th>\n",
       "      <td>A4</td>\n",
       "      <td>ajay</td>\n",
       "      <td>91</td>\n",
       "      <td>73</td>\n",
       "      <td>75</td>\n",
       "      <td>99</td>\n",
       "    </tr>\n",
       "    <tr>\n",
       "      <th>4</th>\n",
       "      <td>A5</td>\n",
       "      <td>pavan</td>\n",
       "      <td>91</td>\n",
       "      <td>83</td>\n",
       "      <td>95</td>\n",
       "      <td>80</td>\n",
       "    </tr>\n",
       "    <tr>\n",
       "      <th>5</th>\n",
       "      <td>A6</td>\n",
       "      <td>meka</td>\n",
       "      <td>61</td>\n",
       "      <td>93</td>\n",
       "      <td>55</td>\n",
       "      <td>76</td>\n",
       "    </tr>\n",
       "    <tr>\n",
       "      <th>6</th>\n",
       "      <td>A7</td>\n",
       "      <td>monav</td>\n",
       "      <td>91</td>\n",
       "      <td>82</td>\n",
       "      <td>95</td>\n",
       "      <td>80</td>\n",
       "    </tr>\n",
       "    <tr>\n",
       "      <th>7</th>\n",
       "      <td>A8</td>\n",
       "      <td>rizz</td>\n",
       "      <td>61</td>\n",
       "      <td>93</td>\n",
       "      <td>92</td>\n",
       "      <td>67</td>\n",
       "    </tr>\n",
       "    <tr>\n",
       "      <th>8</th>\n",
       "      <td>A9</td>\n",
       "      <td>rock</td>\n",
       "      <td>91</td>\n",
       "      <td>93</td>\n",
       "      <td>35</td>\n",
       "      <td>22</td>\n",
       "    </tr>\n",
       "    <tr>\n",
       "      <th>9</th>\n",
       "      <td>B1</td>\n",
       "      <td>pushpa</td>\n",
       "      <td>91</td>\n",
       "      <td>93</td>\n",
       "      <td>90</td>\n",
       "      <td>69</td>\n",
       "    </tr>\n",
       "  </tbody>\n",
       "</table>\n",
       "</div>"
      ],
      "text/plain": [
       "  roll    name  maths  dms  os  co\n",
       "0   A1  Rizwan     91   93  95  80\n",
       "1   A2     bro     81   93  95  78\n",
       "2   A3     sai     91   96  95  89\n",
       "3   A4    ajay     91   73  75  99\n",
       "4   A5   pavan     91   83  95  80\n",
       "5   A6    meka     61   93  55  76\n",
       "6   A7   monav     91   82  95  80\n",
       "7   A8    rizz     61   93  92  67\n",
       "8   A9    rock     91   93  35  22\n",
       "9   B1  pushpa     91   93  90  69"
      ]
     },
     "execution_count": 137,
     "metadata": {},
     "output_type": "execute_result"
    }
   ],
   "source": [
    "import pandas as pd\n",
    "marks = pd.read_csv(\"rizwan.csv\")\n",
    "marks"
   ]
  },
  {
   "cell_type": "code",
   "execution_count": 85,
   "id": "ea4e1dae",
   "metadata": {},
   "outputs": [
    {
     "data": {
      "text/plain": [
       "'d'"
      ]
     },
     "execution_count": 85,
     "metadata": {},
     "output_type": "execute_result"
    }
   ],
   "source": [
    "import string\n",
    "string.ascii_letters\n",
    "'abcdefghijklmnopqrstuvwxyzABCDEFGHIJKLMNOPQRSTUVWXYZ'\n",
    "import random\n",
    "random.choice(string.ascii_letters)"
   ]
  },
  {
   "cell_type": "code",
   "execution_count": 86,
   "id": "9062bccc",
   "metadata": {},
   "outputs": [
    {
     "data": {
      "text/plain": [
       "['BooleanDtype',\n",
       " 'Categorical',\n",
       " 'CategoricalDtype',\n",
       " 'CategoricalIndex',\n",
       " 'DataFrame',\n",
       " 'DateOffset',\n",
       " 'DatetimeIndex',\n",
       " 'DatetimeTZDtype',\n",
       " 'ExcelFile',\n",
       " 'ExcelWriter',\n",
       " 'Flags',\n",
       " 'Float32Dtype',\n",
       " 'Float64Dtype',\n",
       " 'Float64Index',\n",
       " 'Grouper',\n",
       " 'HDFStore',\n",
       " 'Index',\n",
       " 'IndexSlice',\n",
       " 'Int16Dtype',\n",
       " 'Int32Dtype',\n",
       " 'Int64Dtype',\n",
       " 'Int64Index',\n",
       " 'Int8Dtype',\n",
       " 'Interval',\n",
       " 'IntervalDtype',\n",
       " 'IntervalIndex',\n",
       " 'MultiIndex',\n",
       " 'NA',\n",
       " 'NaT',\n",
       " 'NamedAgg',\n",
       " 'Period',\n",
       " 'PeriodDtype',\n",
       " 'PeriodIndex',\n",
       " 'RangeIndex',\n",
       " 'Series',\n",
       " 'SparseDtype',\n",
       " 'StringDtype',\n",
       " 'Timedelta',\n",
       " 'TimedeltaIndex',\n",
       " 'Timestamp',\n",
       " 'UInt16Dtype',\n",
       " 'UInt32Dtype',\n",
       " 'UInt64Dtype',\n",
       " 'UInt64Index',\n",
       " 'UInt8Dtype',\n",
       " '__builtins__',\n",
       " '__cached__',\n",
       " '__doc__',\n",
       " '__docformat__',\n",
       " '__file__',\n",
       " '__getattr__',\n",
       " '__git_version__',\n",
       " '__loader__',\n",
       " '__name__',\n",
       " '__package__',\n",
       " '__path__',\n",
       " '__spec__',\n",
       " '__version__',\n",
       " '_config',\n",
       " '_hashtable',\n",
       " '_is_numpy_dev',\n",
       " '_lib',\n",
       " '_libs',\n",
       " '_np_version_under1p17',\n",
       " '_np_version_under1p18',\n",
       " '_testing',\n",
       " '_tslib',\n",
       " '_typing',\n",
       " '_version',\n",
       " 'api',\n",
       " 'array',\n",
       " 'arrays',\n",
       " 'bdate_range',\n",
       " 'compat',\n",
       " 'concat',\n",
       " 'core',\n",
       " 'crosstab',\n",
       " 'cut',\n",
       " 'date_range',\n",
       " 'describe_option',\n",
       " 'errors',\n",
       " 'eval',\n",
       " 'factorize',\n",
       " 'get_dummies',\n",
       " 'get_option',\n",
       " 'infer_freq',\n",
       " 'interval_range',\n",
       " 'io',\n",
       " 'isna',\n",
       " 'isnull',\n",
       " 'json_normalize',\n",
       " 'lreshape',\n",
       " 'melt',\n",
       " 'merge',\n",
       " 'merge_asof',\n",
       " 'merge_ordered',\n",
       " 'notna',\n",
       " 'notnull',\n",
       " 'offsets',\n",
       " 'option_context',\n",
       " 'options',\n",
       " 'pandas',\n",
       " 'period_range',\n",
       " 'pivot',\n",
       " 'pivot_table',\n",
       " 'plotting',\n",
       " 'qcut',\n",
       " 'read_clipboard',\n",
       " 'read_csv',\n",
       " 'read_excel',\n",
       " 'read_feather',\n",
       " 'read_fwf',\n",
       " 'read_gbq',\n",
       " 'read_hdf',\n",
       " 'read_html',\n",
       " 'read_json',\n",
       " 'read_orc',\n",
       " 'read_parquet',\n",
       " 'read_pickle',\n",
       " 'read_sas',\n",
       " 'read_spss',\n",
       " 'read_sql',\n",
       " 'read_sql_query',\n",
       " 'read_sql_table',\n",
       " 'read_stata',\n",
       " 'read_table',\n",
       " 'reset_option',\n",
       " 'set_eng_float_format',\n",
       " 'set_option',\n",
       " 'show_versions',\n",
       " 'test',\n",
       " 'testing',\n",
       " 'timedelta_range',\n",
       " 'to_datetime',\n",
       " 'to_numeric',\n",
       " 'to_pickle',\n",
       " 'to_timedelta',\n",
       " 'tseries',\n",
       " 'unique',\n",
       " 'util',\n",
       " 'value_counts',\n",
       " 'wide_to_long']"
      ]
     },
     "execution_count": 86,
     "metadata": {},
     "output_type": "execute_result"
    }
   ],
   "source": [
    "dir(pd)"
   ]
  },
  {
   "cell_type": "code",
   "execution_count": 38,
   "id": "3a302508",
   "metadata": {},
   "outputs": [
    {
     "data": {
      "text/html": [
       "<div>\n",
       "<style scoped>\n",
       "    .dataframe tbody tr th:only-of-type {\n",
       "        vertical-align: middle;\n",
       "    }\n",
       "\n",
       "    .dataframe tbody tr th {\n",
       "        vertical-align: top;\n",
       "    }\n",
       "\n",
       "    .dataframe thead th {\n",
       "        text-align: right;\n",
       "    }\n",
       "</style>\n",
       "<table border=\"1\" class=\"dataframe\">\n",
       "  <thead>\n",
       "    <tr style=\"text-align: right;\">\n",
       "      <th></th>\n",
       "      <th>roll</th>\n",
       "      <th>name</th>\n",
       "      <th>maths</th>\n",
       "      <th>dms</th>\n",
       "      <th>os</th>\n",
       "      <th>co</th>\n",
       "    </tr>\n",
       "  </thead>\n",
       "  <tbody>\n",
       "    <tr>\n",
       "      <th>0</th>\n",
       "      <td>A1</td>\n",
       "      <td>Rizwan</td>\n",
       "      <td>91</td>\n",
       "      <td>93</td>\n",
       "      <td>95</td>\n",
       "      <td>6</td>\n",
       "    </tr>\n",
       "  </tbody>\n",
       "</table>\n",
       "</div>"
      ],
      "text/plain": [
       "  roll    name  maths  dms  os  co\n",
       "0   A1  Rizwan     91   93  95   6"
      ]
     },
     "execution_count": 38,
     "metadata": {},
     "output_type": "execute_result"
    }
   ],
   "source": [
    "marks.sample()"
   ]
  },
  {
   "cell_type": "code",
   "execution_count": 45,
   "id": "c3ad283b",
   "metadata": {},
   "outputs": [
    {
     "data": {
      "text/html": [
       "<div>\n",
       "<style scoped>\n",
       "    .dataframe tbody tr th:only-of-type {\n",
       "        vertical-align: middle;\n",
       "    }\n",
       "\n",
       "    .dataframe tbody tr th {\n",
       "        vertical-align: top;\n",
       "    }\n",
       "\n",
       "    .dataframe thead th {\n",
       "        text-align: right;\n",
       "    }\n",
       "</style>\n",
       "<table border=\"1\" class=\"dataframe\">\n",
       "  <thead>\n",
       "    <tr style=\"text-align: right;\">\n",
       "      <th></th>\n",
       "      <th>roll</th>\n",
       "      <th>name</th>\n",
       "      <th>maths</th>\n",
       "      <th>dms</th>\n",
       "      <th>os</th>\n",
       "      <th>co</th>\n",
       "    </tr>\n",
       "  </thead>\n",
       "  <tbody>\n",
       "    <tr>\n",
       "      <th>9</th>\n",
       "      <td>B1</td>\n",
       "      <td>pushpa</td>\n",
       "      <td>91</td>\n",
       "      <td>93</td>\n",
       "      <td>95</td>\n",
       "      <td>6</td>\n",
       "    </tr>\n",
       "    <tr>\n",
       "      <th>2</th>\n",
       "      <td>A3</td>\n",
       "      <td>sai</td>\n",
       "      <td>91</td>\n",
       "      <td>93</td>\n",
       "      <td>95</td>\n",
       "      <td>6</td>\n",
       "    </tr>\n",
       "    <tr>\n",
       "      <th>0</th>\n",
       "      <td>A1</td>\n",
       "      <td>Rizwan</td>\n",
       "      <td>91</td>\n",
       "      <td>93</td>\n",
       "      <td>95</td>\n",
       "      <td>6</td>\n",
       "    </tr>\n",
       "  </tbody>\n",
       "</table>\n",
       "</div>"
      ],
      "text/plain": [
       "  roll    name  maths  dms  os  co\n",
       "9   B1  pushpa     91   93  95   6\n",
       "2   A3     sai     91   93  95   6\n",
       "0   A1  Rizwan     91   93  95   6"
      ]
     },
     "execution_count": 45,
     "metadata": {},
     "output_type": "execute_result"
    }
   ],
   "source": [
    "marks.sample(3)"
   ]
  },
  {
   "cell_type": "code",
   "execution_count": 46,
   "id": "825ac04b",
   "metadata": {},
   "outputs": [
    {
     "data": {
      "text/html": [
       "<div>\n",
       "<style scoped>\n",
       "    .dataframe tbody tr th:only-of-type {\n",
       "        vertical-align: middle;\n",
       "    }\n",
       "\n",
       "    .dataframe tbody tr th {\n",
       "        vertical-align: top;\n",
       "    }\n",
       "\n",
       "    .dataframe thead th {\n",
       "        text-align: right;\n",
       "    }\n",
       "</style>\n",
       "<table border=\"1\" class=\"dataframe\">\n",
       "  <thead>\n",
       "    <tr style=\"text-align: right;\">\n",
       "      <th></th>\n",
       "      <th>roll</th>\n",
       "      <th>name</th>\n",
       "      <th>maths</th>\n",
       "      <th>dms</th>\n",
       "      <th>os</th>\n",
       "      <th>co</th>\n",
       "    </tr>\n",
       "  </thead>\n",
       "  <tbody>\n",
       "    <tr>\n",
       "      <th>0</th>\n",
       "      <td>A1</td>\n",
       "      <td>Rizwan</td>\n",
       "      <td>91</td>\n",
       "      <td>93</td>\n",
       "      <td>95</td>\n",
       "      <td>6</td>\n",
       "    </tr>\n",
       "    <tr>\n",
       "      <th>1</th>\n",
       "      <td>A2</td>\n",
       "      <td>bro</td>\n",
       "      <td>91</td>\n",
       "      <td>93</td>\n",
       "      <td>95</td>\n",
       "      <td>6</td>\n",
       "    </tr>\n",
       "    <tr>\n",
       "      <th>2</th>\n",
       "      <td>A3</td>\n",
       "      <td>sai</td>\n",
       "      <td>91</td>\n",
       "      <td>93</td>\n",
       "      <td>95</td>\n",
       "      <td>6</td>\n",
       "    </tr>\n",
       "    <tr>\n",
       "      <th>3</th>\n",
       "      <td>A4</td>\n",
       "      <td>ajay</td>\n",
       "      <td>91</td>\n",
       "      <td>93</td>\n",
       "      <td>95</td>\n",
       "      <td>6</td>\n",
       "    </tr>\n",
       "    <tr>\n",
       "      <th>4</th>\n",
       "      <td>A5</td>\n",
       "      <td>pavan</td>\n",
       "      <td>91</td>\n",
       "      <td>93</td>\n",
       "      <td>95</td>\n",
       "      <td>6</td>\n",
       "    </tr>\n",
       "  </tbody>\n",
       "</table>\n",
       "</div>"
      ],
      "text/plain": [
       "  roll    name  maths  dms  os  co\n",
       "0   A1  Rizwan     91   93  95   6\n",
       "1   A2     bro     91   93  95   6\n",
       "2   A3     sai     91   93  95   6\n",
       "3   A4    ajay     91   93  95   6\n",
       "4   A5   pavan     91   93  95   6"
      ]
     },
     "execution_count": 46,
     "metadata": {},
     "output_type": "execute_result"
    }
   ],
   "source": [
    "marks.head() # first 5 samples"
   ]
  },
  {
   "cell_type": "code",
   "execution_count": 56,
   "id": "da06c7c8",
   "metadata": {},
   "outputs": [
    {
     "data": {
      "text/html": [
       "<div>\n",
       "<style scoped>\n",
       "    .dataframe tbody tr th:only-of-type {\n",
       "        vertical-align: middle;\n",
       "    }\n",
       "\n",
       "    .dataframe tbody tr th {\n",
       "        vertical-align: top;\n",
       "    }\n",
       "\n",
       "    .dataframe thead th {\n",
       "        text-align: right;\n",
       "    }\n",
       "</style>\n",
       "<table border=\"1\" class=\"dataframe\">\n",
       "  <thead>\n",
       "    <tr style=\"text-align: right;\">\n",
       "      <th></th>\n",
       "      <th>roll</th>\n",
       "      <th>name</th>\n",
       "      <th>maths</th>\n",
       "      <th>dms</th>\n",
       "      <th>os</th>\n",
       "      <th>co</th>\n",
       "    </tr>\n",
       "  </thead>\n",
       "  <tbody>\n",
       "    <tr>\n",
       "      <th>5</th>\n",
       "      <td>A6</td>\n",
       "      <td>meka</td>\n",
       "      <td>91</td>\n",
       "      <td>93</td>\n",
       "      <td>95</td>\n",
       "      <td>6</td>\n",
       "    </tr>\n",
       "    <tr>\n",
       "      <th>6</th>\n",
       "      <td>A7</td>\n",
       "      <td>monav</td>\n",
       "      <td>91</td>\n",
       "      <td>93</td>\n",
       "      <td>95</td>\n",
       "      <td>6</td>\n",
       "    </tr>\n",
       "    <tr>\n",
       "      <th>7</th>\n",
       "      <td>A8</td>\n",
       "      <td>rizz</td>\n",
       "      <td>91</td>\n",
       "      <td>93</td>\n",
       "      <td>95</td>\n",
       "      <td>6</td>\n",
       "    </tr>\n",
       "    <tr>\n",
       "      <th>8</th>\n",
       "      <td>A9</td>\n",
       "      <td>rock</td>\n",
       "      <td>91</td>\n",
       "      <td>93</td>\n",
       "      <td>95</td>\n",
       "      <td>6</td>\n",
       "    </tr>\n",
       "    <tr>\n",
       "      <th>9</th>\n",
       "      <td>B1</td>\n",
       "      <td>pushpa</td>\n",
       "      <td>91</td>\n",
       "      <td>93</td>\n",
       "      <td>95</td>\n",
       "      <td>6</td>\n",
       "    </tr>\n",
       "  </tbody>\n",
       "</table>\n",
       "</div>"
      ],
      "text/plain": [
       "  roll    name  maths  dms  os  co\n",
       "5   A6    meka     91   93  95   6\n",
       "6   A7   monav     91   93  95   6\n",
       "7   A8    rizz     91   93  95   6\n",
       "8   A9    rock     91   93  95   6\n",
       "9   B1  pushpa     91   93  95   6"
      ]
     },
     "execution_count": 56,
     "metadata": {},
     "output_type": "execute_result"
    }
   ],
   "source": [
    "marks.tail() # last 5 samples"
   ]
  },
  {
   "cell_type": "code",
   "execution_count": 48,
   "id": "ab6ef22d",
   "metadata": {},
   "outputs": [
    {
     "data": {
      "text/html": [
       "<div>\n",
       "<style scoped>\n",
       "    .dataframe tbody tr th:only-of-type {\n",
       "        vertical-align: middle;\n",
       "    }\n",
       "\n",
       "    .dataframe tbody tr th {\n",
       "        vertical-align: top;\n",
       "    }\n",
       "\n",
       "    .dataframe thead th {\n",
       "        text-align: right;\n",
       "    }\n",
       "</style>\n",
       "<table border=\"1\" class=\"dataframe\">\n",
       "  <thead>\n",
       "    <tr style=\"text-align: right;\">\n",
       "      <th></th>\n",
       "      <th>roll</th>\n",
       "      <th>name</th>\n",
       "      <th>maths</th>\n",
       "      <th>dms</th>\n",
       "      <th>os</th>\n",
       "      <th>co</th>\n",
       "    </tr>\n",
       "  </thead>\n",
       "  <tbody>\n",
       "    <tr>\n",
       "      <th>7</th>\n",
       "      <td>A8</td>\n",
       "      <td>rizz</td>\n",
       "      <td>91</td>\n",
       "      <td>93</td>\n",
       "      <td>95</td>\n",
       "      <td>6</td>\n",
       "    </tr>\n",
       "    <tr>\n",
       "      <th>8</th>\n",
       "      <td>A9</td>\n",
       "      <td>rock</td>\n",
       "      <td>91</td>\n",
       "      <td>93</td>\n",
       "      <td>95</td>\n",
       "      <td>6</td>\n",
       "    </tr>\n",
       "    <tr>\n",
       "      <th>9</th>\n",
       "      <td>B1</td>\n",
       "      <td>pushpa</td>\n",
       "      <td>91</td>\n",
       "      <td>93</td>\n",
       "      <td>95</td>\n",
       "      <td>6</td>\n",
       "    </tr>\n",
       "  </tbody>\n",
       "</table>\n",
       "</div>"
      ],
      "text/plain": [
       "  roll    name  maths  dms  os  co\n",
       "7   A8    rizz     91   93  95   6\n",
       "8   A9    rock     91   93  95   6\n",
       "9   B1  pushpa     91   93  95   6"
      ]
     },
     "execution_count": 48,
     "metadata": {},
     "output_type": "execute_result"
    }
   ],
   "source": [
    "marks.tail(3)"
   ]
  },
  {
   "cell_type": "code",
   "execution_count": 49,
   "id": "9559ef69",
   "metadata": {},
   "outputs": [
    {
     "data": {
      "text/plain": [
       "0    A1\n",
       "1    A2\n",
       "2    A3\n",
       "3    A4\n",
       "4    A5\n",
       "5    A6\n",
       "6    A7\n",
       "7    A8\n",
       "8    A9\n",
       "9    B1\n",
       "Name: roll, dtype: object"
      ]
     },
     "execution_count": 49,
     "metadata": {},
     "output_type": "execute_result"
    }
   ],
   "source": [
    "marks[\"roll\"]"
   ]
  },
  {
   "cell_type": "code",
   "execution_count": 57,
   "id": "1e4acd76",
   "metadata": {},
   "outputs": [
    {
     "data": {
      "text/html": [
       "<div>\n",
       "<style scoped>\n",
       "    .dataframe tbody tr th:only-of-type {\n",
       "        vertical-align: middle;\n",
       "    }\n",
       "\n",
       "    .dataframe tbody tr th {\n",
       "        vertical-align: top;\n",
       "    }\n",
       "\n",
       "    .dataframe thead th {\n",
       "        text-align: right;\n",
       "    }\n",
       "</style>\n",
       "<table border=\"1\" class=\"dataframe\">\n",
       "  <thead>\n",
       "    <tr style=\"text-align: right;\">\n",
       "      <th></th>\n",
       "      <th>roll</th>\n",
       "      <th>name</th>\n",
       "      <th>dms</th>\n",
       "    </tr>\n",
       "  </thead>\n",
       "  <tbody>\n",
       "    <tr>\n",
       "      <th>0</th>\n",
       "      <td>A1</td>\n",
       "      <td>Rizwan</td>\n",
       "      <td>93</td>\n",
       "    </tr>\n",
       "    <tr>\n",
       "      <th>1</th>\n",
       "      <td>A2</td>\n",
       "      <td>bro</td>\n",
       "      <td>93</td>\n",
       "    </tr>\n",
       "    <tr>\n",
       "      <th>2</th>\n",
       "      <td>A3</td>\n",
       "      <td>sai</td>\n",
       "      <td>93</td>\n",
       "    </tr>\n",
       "    <tr>\n",
       "      <th>3</th>\n",
       "      <td>A4</td>\n",
       "      <td>ajay</td>\n",
       "      <td>93</td>\n",
       "    </tr>\n",
       "    <tr>\n",
       "      <th>4</th>\n",
       "      <td>A5</td>\n",
       "      <td>pavan</td>\n",
       "      <td>93</td>\n",
       "    </tr>\n",
       "    <tr>\n",
       "      <th>5</th>\n",
       "      <td>A6</td>\n",
       "      <td>meka</td>\n",
       "      <td>93</td>\n",
       "    </tr>\n",
       "    <tr>\n",
       "      <th>6</th>\n",
       "      <td>A7</td>\n",
       "      <td>monav</td>\n",
       "      <td>93</td>\n",
       "    </tr>\n",
       "    <tr>\n",
       "      <th>7</th>\n",
       "      <td>A8</td>\n",
       "      <td>rizz</td>\n",
       "      <td>93</td>\n",
       "    </tr>\n",
       "    <tr>\n",
       "      <th>8</th>\n",
       "      <td>A9</td>\n",
       "      <td>rock</td>\n",
       "      <td>93</td>\n",
       "    </tr>\n",
       "    <tr>\n",
       "      <th>9</th>\n",
       "      <td>B1</td>\n",
       "      <td>pushpa</td>\n",
       "      <td>93</td>\n",
       "    </tr>\n",
       "  </tbody>\n",
       "</table>\n",
       "</div>"
      ],
      "text/plain": [
       "  roll    name  dms\n",
       "0   A1  Rizwan   93\n",
       "1   A2     bro   93\n",
       "2   A3     sai   93\n",
       "3   A4    ajay   93\n",
       "4   A5   pavan   93\n",
       "5   A6    meka   93\n",
       "6   A7   monav   93\n",
       "7   A8    rizz   93\n",
       "8   A9    rock   93\n",
       "9   B1  pushpa   93"
      ]
     },
     "execution_count": 57,
     "metadata": {},
     "output_type": "execute_result"
    }
   ],
   "source": [
    "marks[[\"roll\",\"name\",\"dms\"]]"
   ]
  },
  {
   "cell_type": "code",
   "execution_count": 61,
   "id": "2972adf8",
   "metadata": {},
   "outputs": [
    {
     "data": {
      "text/html": [
       "<div>\n",
       "<style scoped>\n",
       "    .dataframe tbody tr th:only-of-type {\n",
       "        vertical-align: middle;\n",
       "    }\n",
       "\n",
       "    .dataframe tbody tr th {\n",
       "        vertical-align: top;\n",
       "    }\n",
       "\n",
       "    .dataframe thead th {\n",
       "        text-align: right;\n",
       "    }\n",
       "</style>\n",
       "<table border=\"1\" class=\"dataframe\">\n",
       "  <thead>\n",
       "    <tr style=\"text-align: right;\">\n",
       "      <th></th>\n",
       "      <th>roll</th>\n",
       "      <th>name</th>\n",
       "    </tr>\n",
       "  </thead>\n",
       "  <tbody>\n",
       "    <tr>\n",
       "      <th>0</th>\n",
       "      <td>A1</td>\n",
       "      <td>Rizwan</td>\n",
       "    </tr>\n",
       "    <tr>\n",
       "      <th>1</th>\n",
       "      <td>A2</td>\n",
       "      <td>bro</td>\n",
       "    </tr>\n",
       "    <tr>\n",
       "      <th>2</th>\n",
       "      <td>A3</td>\n",
       "      <td>sai</td>\n",
       "    </tr>\n",
       "    <tr>\n",
       "      <th>3</th>\n",
       "      <td>A4</td>\n",
       "      <td>ajay</td>\n",
       "    </tr>\n",
       "    <tr>\n",
       "      <th>4</th>\n",
       "      <td>A5</td>\n",
       "      <td>pavan</td>\n",
       "    </tr>\n",
       "    <tr>\n",
       "      <th>5</th>\n",
       "      <td>A6</td>\n",
       "      <td>meka</td>\n",
       "    </tr>\n",
       "    <tr>\n",
       "      <th>6</th>\n",
       "      <td>A7</td>\n",
       "      <td>monav</td>\n",
       "    </tr>\n",
       "    <tr>\n",
       "      <th>7</th>\n",
       "      <td>A8</td>\n",
       "      <td>rizz</td>\n",
       "    </tr>\n",
       "    <tr>\n",
       "      <th>8</th>\n",
       "      <td>A9</td>\n",
       "      <td>rock</td>\n",
       "    </tr>\n",
       "    <tr>\n",
       "      <th>9</th>\n",
       "      <td>B1</td>\n",
       "      <td>pushpa</td>\n",
       "    </tr>\n",
       "  </tbody>\n",
       "</table>\n",
       "</div>"
      ],
      "text/plain": [
       "  roll    name\n",
       "0   A1  Rizwan\n",
       "1   A2     bro\n",
       "2   A3     sai\n",
       "3   A4    ajay\n",
       "4   A5   pavan\n",
       "5   A6    meka\n",
       "6   A7   monav\n",
       "7   A8    rizz\n",
       "8   A9    rock\n",
       "9   B1  pushpa"
      ]
     },
     "execution_count": 61,
     "metadata": {},
     "output_type": "execute_result"
    }
   ],
   "source": [
    "marks[[\"roll\",\"name\"]]"
   ]
  },
  {
   "cell_type": "code",
   "execution_count": 63,
   "id": "842f8017",
   "metadata": {},
   "outputs": [
    {
     "data": {
      "text/html": [
       "<div>\n",
       "<style scoped>\n",
       "    .dataframe tbody tr th:only-of-type {\n",
       "        vertical-align: middle;\n",
       "    }\n",
       "\n",
       "    .dataframe tbody tr th {\n",
       "        vertical-align: top;\n",
       "    }\n",
       "\n",
       "    .dataframe thead th {\n",
       "        text-align: right;\n",
       "    }\n",
       "</style>\n",
       "<table border=\"1\" class=\"dataframe\">\n",
       "  <thead>\n",
       "    <tr style=\"text-align: right;\">\n",
       "      <th></th>\n",
       "      <th>roll</th>\n",
       "      <th>name</th>\n",
       "    </tr>\n",
       "  </thead>\n",
       "  <tbody>\n",
       "    <tr>\n",
       "      <th>0</th>\n",
       "      <td>A1</td>\n",
       "      <td>Rizwan</td>\n",
       "    </tr>\n",
       "    <tr>\n",
       "      <th>1</th>\n",
       "      <td>A2</td>\n",
       "      <td>bro</td>\n",
       "    </tr>\n",
       "    <tr>\n",
       "      <th>2</th>\n",
       "      <td>A3</td>\n",
       "      <td>sai</td>\n",
       "    </tr>\n",
       "    <tr>\n",
       "      <th>3</th>\n",
       "      <td>A4</td>\n",
       "      <td>ajay</td>\n",
       "    </tr>\n",
       "    <tr>\n",
       "      <th>4</th>\n",
       "      <td>A5</td>\n",
       "      <td>pavan</td>\n",
       "    </tr>\n",
       "    <tr>\n",
       "      <th>5</th>\n",
       "      <td>A6</td>\n",
       "      <td>meka</td>\n",
       "    </tr>\n",
       "    <tr>\n",
       "      <th>6</th>\n",
       "      <td>A7</td>\n",
       "      <td>monav</td>\n",
       "    </tr>\n",
       "    <tr>\n",
       "      <th>7</th>\n",
       "      <td>A8</td>\n",
       "      <td>rizz</td>\n",
       "    </tr>\n",
       "    <tr>\n",
       "      <th>8</th>\n",
       "      <td>A9</td>\n",
       "      <td>rock</td>\n",
       "    </tr>\n",
       "    <tr>\n",
       "      <th>9</th>\n",
       "      <td>B1</td>\n",
       "      <td>pushpa</td>\n",
       "    </tr>\n",
       "  </tbody>\n",
       "</table>\n",
       "</div>"
      ],
      "text/plain": [
       "  roll    name\n",
       "0   A1  Rizwan\n",
       "1   A2     bro\n",
       "2   A3     sai\n",
       "3   A4    ajay\n",
       "4   A5   pavan\n",
       "5   A6    meka\n",
       "6   A7   monav\n",
       "7   A8    rizz\n",
       "8   A9    rock\n",
       "9   B1  pushpa"
      ]
     },
     "execution_count": 63,
     "metadata": {},
     "output_type": "execute_result"
    }
   ],
   "source": [
    "r1 = pd.read_csv(\"rizwan.csv\",usecols=[\"name\",\"roll\"])\n",
    "r1"
   ]
  },
  {
   "cell_type": "code",
   "execution_count": 67,
   "id": "cfdc607f",
   "metadata": {},
   "outputs": [
    {
     "data": {
      "text/plain": [
       "Index(['roll', 'name', 'maths', 'dms', 'os', 'co'], dtype='object')"
      ]
     },
     "execution_count": 67,
     "metadata": {},
     "output_type": "execute_result"
    }
   ],
   "source": [
    "marks.columns"
   ]
  },
  {
   "cell_type": "code",
   "execution_count": 68,
   "id": "a778a173",
   "metadata": {},
   "outputs": [
    {
     "data": {
      "text/plain": [
       "RangeIndex(start=0, stop=10, step=1)"
      ]
     },
     "execution_count": 68,
     "metadata": {},
     "output_type": "execute_result"
    }
   ],
   "source": [
    "marks.index"
   ]
  },
  {
   "cell_type": "code",
   "execution_count": 69,
   "id": "b3f8828e",
   "metadata": {},
   "outputs": [
    {
     "data": {
      "text/plain": [
       "<bound method DataFrame.info of   roll    name  maths  dms  os  co\n",
       "0   A1  Rizwan     91   93  95   6\n",
       "1   A2     bro     91   93  95   6\n",
       "2   A3     sai     91   93  95   6\n",
       "3   A4    ajay     91   93  95   6\n",
       "4   A5   pavan     91   93  95   6\n",
       "5   A6    meka     91   93  95   6\n",
       "6   A7   monav     91   93  95   6\n",
       "7   A8    rizz     91   93  95   6\n",
       "8   A9    rock     91   93  95   6\n",
       "9   B1  pushpa     91   93  95   6>"
      ]
     },
     "execution_count": 69,
     "metadata": {},
     "output_type": "execute_result"
    }
   ],
   "source": [
    "marks.info"
   ]
  },
  {
   "cell_type": "code",
   "execution_count": 72,
   "id": "38fa5b33",
   "metadata": {},
   "outputs": [
    {
     "data": {
      "text/html": [
       "<div>\n",
       "<style scoped>\n",
       "    .dataframe tbody tr th:only-of-type {\n",
       "        vertical-align: middle;\n",
       "    }\n",
       "\n",
       "    .dataframe tbody tr th {\n",
       "        vertical-align: top;\n",
       "    }\n",
       "\n",
       "    .dataframe thead th {\n",
       "        text-align: right;\n",
       "    }\n",
       "</style>\n",
       "<table border=\"1\" class=\"dataframe\">\n",
       "  <thead>\n",
       "    <tr style=\"text-align: right;\">\n",
       "      <th></th>\n",
       "      <th>maths</th>\n",
       "      <th>dms</th>\n",
       "      <th>os</th>\n",
       "      <th>co</th>\n",
       "    </tr>\n",
       "  </thead>\n",
       "  <tbody>\n",
       "    <tr>\n",
       "      <th>count</th>\n",
       "      <td>10.000000</td>\n",
       "      <td>10.000000</td>\n",
       "      <td>10.000000</td>\n",
       "      <td>10.000000</td>\n",
       "    </tr>\n",
       "    <tr>\n",
       "      <th>mean</th>\n",
       "      <td>84.000000</td>\n",
       "      <td>89.200000</td>\n",
       "      <td>82.200000</td>\n",
       "      <td>15.000000</td>\n",
       "    </tr>\n",
       "    <tr>\n",
       "      <th>std</th>\n",
       "      <td>12.516656</td>\n",
       "      <td>7.345445</td>\n",
       "      <td>21.070253</td>\n",
       "      <td>28.460499</td>\n",
       "    </tr>\n",
       "    <tr>\n",
       "      <th>min</th>\n",
       "      <td>61.000000</td>\n",
       "      <td>73.000000</td>\n",
       "      <td>35.000000</td>\n",
       "      <td>6.000000</td>\n",
       "    </tr>\n",
       "    <tr>\n",
       "      <th>25%</th>\n",
       "      <td>83.500000</td>\n",
       "      <td>85.500000</td>\n",
       "      <td>78.750000</td>\n",
       "      <td>6.000000</td>\n",
       "    </tr>\n",
       "    <tr>\n",
       "      <th>50%</th>\n",
       "      <td>91.000000</td>\n",
       "      <td>93.000000</td>\n",
       "      <td>93.500000</td>\n",
       "      <td>6.000000</td>\n",
       "    </tr>\n",
       "    <tr>\n",
       "      <th>75%</th>\n",
       "      <td>91.000000</td>\n",
       "      <td>93.000000</td>\n",
       "      <td>95.000000</td>\n",
       "      <td>6.000000</td>\n",
       "    </tr>\n",
       "    <tr>\n",
       "      <th>max</th>\n",
       "      <td>91.000000</td>\n",
       "      <td>96.000000</td>\n",
       "      <td>95.000000</td>\n",
       "      <td>96.000000</td>\n",
       "    </tr>\n",
       "  </tbody>\n",
       "</table>\n",
       "</div>"
      ],
      "text/plain": [
       "           maths        dms         os         co\n",
       "count  10.000000  10.000000  10.000000  10.000000\n",
       "mean   84.000000  89.200000  82.200000  15.000000\n",
       "std    12.516656   7.345445  21.070253  28.460499\n",
       "min    61.000000  73.000000  35.000000   6.000000\n",
       "25%    83.500000  85.500000  78.750000   6.000000\n",
       "50%    91.000000  93.000000  93.500000   6.000000\n",
       "75%    91.000000  93.000000  95.000000   6.000000\n",
       "max    91.000000  96.000000  95.000000  96.000000"
      ]
     },
     "execution_count": 72,
     "metadata": {},
     "output_type": "execute_result"
    }
   ],
   "source": [
    "marks.describe()"
   ]
  },
  {
   "cell_type": "code",
   "execution_count": 73,
   "id": "745530d5",
   "metadata": {},
   "outputs": [
    {
     "data": {
      "text/plain": [
       "93    6\n",
       "96    1\n",
       "82    1\n",
       "83    1\n",
       "73    1\n",
       "Name: dms, dtype: int64"
      ]
     },
     "execution_count": 73,
     "metadata": {},
     "output_type": "execute_result"
    }
   ],
   "source": [
    "marks.dms.value_counts()"
   ]
  },
  {
   "cell_type": "code",
   "execution_count": 97,
   "id": "ce2fa767",
   "metadata": {},
   "outputs": [
    {
     "name": "stdout",
     "output_type": "stream",
     "text": [
      "91    7\n",
      "61    2\n",
      "81    1\n",
      "Name: maths, dtype: int64\n",
      "93    6\n",
      "96    1\n",
      "82    1\n",
      "83    1\n",
      "73    1\n",
      "Name: dms, dtype: int64\n",
      "6     9\n",
      "96    1\n",
      "Name: co, dtype: int64\n"
     ]
    }
   ],
   "source": [
    "sub = [\"maths\",\"dms\",\"co\"]\n",
    "for i in sub:\n",
    "    print(marks[i].value_counts())"
   ]
  },
  {
   "cell_type": "code",
   "execution_count": 99,
   "id": "8740df44",
   "metadata": {},
   "outputs": [
    {
     "data": {
      "text/html": [
       "<div>\n",
       "<style scoped>\n",
       "    .dataframe tbody tr th:only-of-type {\n",
       "        vertical-align: middle;\n",
       "    }\n",
       "\n",
       "    .dataframe tbody tr th {\n",
       "        vertical-align: top;\n",
       "    }\n",
       "\n",
       "    .dataframe thead th {\n",
       "        text-align: right;\n",
       "    }\n",
       "</style>\n",
       "<table border=\"1\" class=\"dataframe\">\n",
       "  <thead>\n",
       "    <tr style=\"text-align: right;\">\n",
       "      <th></th>\n",
       "      <th>roll</th>\n",
       "      <th>name</th>\n",
       "      <th>maths</th>\n",
       "      <th>dms</th>\n",
       "      <th>os</th>\n",
       "      <th>co</th>\n",
       "    </tr>\n",
       "  </thead>\n",
       "  <tbody>\n",
       "    <tr>\n",
       "      <th>3</th>\n",
       "      <td>A4</td>\n",
       "      <td>ajay</td>\n",
       "      <td>91</td>\n",
       "      <td>73</td>\n",
       "      <td>75</td>\n",
       "      <td>6</td>\n",
       "    </tr>\n",
       "    <tr>\n",
       "      <th>6</th>\n",
       "      <td>A7</td>\n",
       "      <td>monav</td>\n",
       "      <td>91</td>\n",
       "      <td>82</td>\n",
       "      <td>95</td>\n",
       "      <td>6</td>\n",
       "    </tr>\n",
       "    <tr>\n",
       "      <th>4</th>\n",
       "      <td>A5</td>\n",
       "      <td>pavan</td>\n",
       "      <td>91</td>\n",
       "      <td>83</td>\n",
       "      <td>95</td>\n",
       "      <td>6</td>\n",
       "    </tr>\n",
       "    <tr>\n",
       "      <th>0</th>\n",
       "      <td>A1</td>\n",
       "      <td>Rizwan</td>\n",
       "      <td>91</td>\n",
       "      <td>93</td>\n",
       "      <td>95</td>\n",
       "      <td>6</td>\n",
       "    </tr>\n",
       "    <tr>\n",
       "      <th>1</th>\n",
       "      <td>A2</td>\n",
       "      <td>bro</td>\n",
       "      <td>81</td>\n",
       "      <td>93</td>\n",
       "      <td>95</td>\n",
       "      <td>6</td>\n",
       "    </tr>\n",
       "    <tr>\n",
       "      <th>5</th>\n",
       "      <td>A6</td>\n",
       "      <td>meka</td>\n",
       "      <td>61</td>\n",
       "      <td>93</td>\n",
       "      <td>55</td>\n",
       "      <td>6</td>\n",
       "    </tr>\n",
       "    <tr>\n",
       "      <th>7</th>\n",
       "      <td>A8</td>\n",
       "      <td>rizz</td>\n",
       "      <td>61</td>\n",
       "      <td>93</td>\n",
       "      <td>92</td>\n",
       "      <td>96</td>\n",
       "    </tr>\n",
       "    <tr>\n",
       "      <th>8</th>\n",
       "      <td>A9</td>\n",
       "      <td>rock</td>\n",
       "      <td>91</td>\n",
       "      <td>93</td>\n",
       "      <td>35</td>\n",
       "      <td>6</td>\n",
       "    </tr>\n",
       "    <tr>\n",
       "      <th>9</th>\n",
       "      <td>B1</td>\n",
       "      <td>pushpa</td>\n",
       "      <td>91</td>\n",
       "      <td>93</td>\n",
       "      <td>90</td>\n",
       "      <td>6</td>\n",
       "    </tr>\n",
       "    <tr>\n",
       "      <th>2</th>\n",
       "      <td>A3</td>\n",
       "      <td>sai</td>\n",
       "      <td>91</td>\n",
       "      <td>96</td>\n",
       "      <td>95</td>\n",
       "      <td>6</td>\n",
       "    </tr>\n",
       "  </tbody>\n",
       "</table>\n",
       "</div>"
      ],
      "text/plain": [
       "  roll    name  maths  dms  os  co\n",
       "3   A4    ajay     91   73  75   6\n",
       "6   A7   monav     91   82  95   6\n",
       "4   A5   pavan     91   83  95   6\n",
       "0   A1  Rizwan     91   93  95   6\n",
       "1   A2     bro     81   93  95   6\n",
       "5   A6    meka     61   93  55   6\n",
       "7   A8    rizz     61   93  92  96\n",
       "8   A9    rock     91   93  35   6\n",
       "9   B1  pushpa     91   93  90   6\n",
       "2   A3     sai     91   96  95   6"
      ]
     },
     "execution_count": 99,
     "metadata": {},
     "output_type": "execute_result"
    }
   ],
   "source": [
    "marks.sort_values(\"dms\")"
   ]
  },
  {
   "cell_type": "code",
   "execution_count": 101,
   "id": "78da7530",
   "metadata": {},
   "outputs": [
    {
     "data": {
      "text/html": [
       "<div>\n",
       "<style scoped>\n",
       "    .dataframe tbody tr th:only-of-type {\n",
       "        vertical-align: middle;\n",
       "    }\n",
       "\n",
       "    .dataframe tbody tr th {\n",
       "        vertical-align: top;\n",
       "    }\n",
       "\n",
       "    .dataframe thead th {\n",
       "        text-align: right;\n",
       "    }\n",
       "</style>\n",
       "<table border=\"1\" class=\"dataframe\">\n",
       "  <thead>\n",
       "    <tr style=\"text-align: right;\">\n",
       "      <th></th>\n",
       "      <th>roll</th>\n",
       "      <th>name</th>\n",
       "      <th>maths</th>\n",
       "      <th>dms</th>\n",
       "      <th>os</th>\n",
       "      <th>co</th>\n",
       "    </tr>\n",
       "  </thead>\n",
       "  <tbody>\n",
       "    <tr>\n",
       "      <th>0</th>\n",
       "      <td>A1</td>\n",
       "      <td>Rizwan</td>\n",
       "      <td>91</td>\n",
       "      <td>93</td>\n",
       "      <td>95</td>\n",
       "      <td>6</td>\n",
       "    </tr>\n",
       "    <tr>\n",
       "      <th>1</th>\n",
       "      <td>A2</td>\n",
       "      <td>bro</td>\n",
       "      <td>81</td>\n",
       "      <td>93</td>\n",
       "      <td>95</td>\n",
       "      <td>6</td>\n",
       "    </tr>\n",
       "    <tr>\n",
       "      <th>2</th>\n",
       "      <td>A3</td>\n",
       "      <td>sai</td>\n",
       "      <td>91</td>\n",
       "      <td>96</td>\n",
       "      <td>95</td>\n",
       "      <td>6</td>\n",
       "    </tr>\n",
       "    <tr>\n",
       "      <th>4</th>\n",
       "      <td>A5</td>\n",
       "      <td>pavan</td>\n",
       "      <td>91</td>\n",
       "      <td>83</td>\n",
       "      <td>95</td>\n",
       "      <td>6</td>\n",
       "    </tr>\n",
       "    <tr>\n",
       "      <th>6</th>\n",
       "      <td>A7</td>\n",
       "      <td>monav</td>\n",
       "      <td>91</td>\n",
       "      <td>82</td>\n",
       "      <td>95</td>\n",
       "      <td>6</td>\n",
       "    </tr>\n",
       "    <tr>\n",
       "      <th>7</th>\n",
       "      <td>A8</td>\n",
       "      <td>rizz</td>\n",
       "      <td>61</td>\n",
       "      <td>93</td>\n",
       "      <td>92</td>\n",
       "      <td>96</td>\n",
       "    </tr>\n",
       "    <tr>\n",
       "      <th>9</th>\n",
       "      <td>B1</td>\n",
       "      <td>pushpa</td>\n",
       "      <td>91</td>\n",
       "      <td>93</td>\n",
       "      <td>90</td>\n",
       "      <td>6</td>\n",
       "    </tr>\n",
       "    <tr>\n",
       "      <th>3</th>\n",
       "      <td>A4</td>\n",
       "      <td>ajay</td>\n",
       "      <td>91</td>\n",
       "      <td>73</td>\n",
       "      <td>75</td>\n",
       "      <td>6</td>\n",
       "    </tr>\n",
       "    <tr>\n",
       "      <th>5</th>\n",
       "      <td>A6</td>\n",
       "      <td>meka</td>\n",
       "      <td>61</td>\n",
       "      <td>93</td>\n",
       "      <td>55</td>\n",
       "      <td>6</td>\n",
       "    </tr>\n",
       "    <tr>\n",
       "      <th>8</th>\n",
       "      <td>A9</td>\n",
       "      <td>rock</td>\n",
       "      <td>91</td>\n",
       "      <td>93</td>\n",
       "      <td>35</td>\n",
       "      <td>6</td>\n",
       "    </tr>\n",
       "  </tbody>\n",
       "</table>\n",
       "</div>"
      ],
      "text/plain": [
       "  roll    name  maths  dms  os  co\n",
       "0   A1  Rizwan     91   93  95   6\n",
       "1   A2     bro     81   93  95   6\n",
       "2   A3     sai     91   96  95   6\n",
       "4   A5   pavan     91   83  95   6\n",
       "6   A7   monav     91   82  95   6\n",
       "7   A8    rizz     61   93  92  96\n",
       "9   B1  pushpa     91   93  90   6\n",
       "3   A4    ajay     91   73  75   6\n",
       "5   A6    meka     61   93  55   6\n",
       "8   A9    rock     91   93  35   6"
      ]
     },
     "execution_count": 101,
     "metadata": {},
     "output_type": "execute_result"
    }
   ],
   "source": [
    "marks.sort_values(\"os\",ascending=False)"
   ]
  },
  {
   "cell_type": "code",
   "execution_count": 104,
   "id": "1a52d9c1",
   "metadata": {},
   "outputs": [],
   "source": [
    "marks[\"Total\"]=100"
   ]
  },
  {
   "cell_type": "code",
   "execution_count": 105,
   "id": "d8a9ca09",
   "metadata": {},
   "outputs": [
    {
     "data": {
      "text/html": [
       "<div>\n",
       "<style scoped>\n",
       "    .dataframe tbody tr th:only-of-type {\n",
       "        vertical-align: middle;\n",
       "    }\n",
       "\n",
       "    .dataframe tbody tr th {\n",
       "        vertical-align: top;\n",
       "    }\n",
       "\n",
       "    .dataframe thead th {\n",
       "        text-align: right;\n",
       "    }\n",
       "</style>\n",
       "<table border=\"1\" class=\"dataframe\">\n",
       "  <thead>\n",
       "    <tr style=\"text-align: right;\">\n",
       "      <th></th>\n",
       "      <th>roll</th>\n",
       "      <th>name</th>\n",
       "      <th>maths</th>\n",
       "      <th>dms</th>\n",
       "      <th>os</th>\n",
       "      <th>co</th>\n",
       "      <th>Totla</th>\n",
       "      <th>Total</th>\n",
       "    </tr>\n",
       "  </thead>\n",
       "  <tbody>\n",
       "    <tr>\n",
       "      <th>0</th>\n",
       "      <td>A1</td>\n",
       "      <td>Rizwan</td>\n",
       "      <td>91</td>\n",
       "      <td>93</td>\n",
       "      <td>95</td>\n",
       "      <td>6</td>\n",
       "      <td>100</td>\n",
       "      <td>100</td>\n",
       "    </tr>\n",
       "    <tr>\n",
       "      <th>1</th>\n",
       "      <td>A2</td>\n",
       "      <td>bro</td>\n",
       "      <td>81</td>\n",
       "      <td>93</td>\n",
       "      <td>95</td>\n",
       "      <td>6</td>\n",
       "      <td>100</td>\n",
       "      <td>100</td>\n",
       "    </tr>\n",
       "    <tr>\n",
       "      <th>2</th>\n",
       "      <td>A3</td>\n",
       "      <td>sai</td>\n",
       "      <td>91</td>\n",
       "      <td>96</td>\n",
       "      <td>95</td>\n",
       "      <td>6</td>\n",
       "      <td>100</td>\n",
       "      <td>100</td>\n",
       "    </tr>\n",
       "    <tr>\n",
       "      <th>3</th>\n",
       "      <td>A4</td>\n",
       "      <td>ajay</td>\n",
       "      <td>91</td>\n",
       "      <td>73</td>\n",
       "      <td>75</td>\n",
       "      <td>6</td>\n",
       "      <td>100</td>\n",
       "      <td>100</td>\n",
       "    </tr>\n",
       "    <tr>\n",
       "      <th>4</th>\n",
       "      <td>A5</td>\n",
       "      <td>pavan</td>\n",
       "      <td>91</td>\n",
       "      <td>83</td>\n",
       "      <td>95</td>\n",
       "      <td>6</td>\n",
       "      <td>100</td>\n",
       "      <td>100</td>\n",
       "    </tr>\n",
       "    <tr>\n",
       "      <th>5</th>\n",
       "      <td>A6</td>\n",
       "      <td>meka</td>\n",
       "      <td>61</td>\n",
       "      <td>93</td>\n",
       "      <td>55</td>\n",
       "      <td>6</td>\n",
       "      <td>100</td>\n",
       "      <td>100</td>\n",
       "    </tr>\n",
       "    <tr>\n",
       "      <th>6</th>\n",
       "      <td>A7</td>\n",
       "      <td>monav</td>\n",
       "      <td>91</td>\n",
       "      <td>82</td>\n",
       "      <td>95</td>\n",
       "      <td>6</td>\n",
       "      <td>100</td>\n",
       "      <td>100</td>\n",
       "    </tr>\n",
       "    <tr>\n",
       "      <th>7</th>\n",
       "      <td>A8</td>\n",
       "      <td>rizz</td>\n",
       "      <td>61</td>\n",
       "      <td>93</td>\n",
       "      <td>92</td>\n",
       "      <td>96</td>\n",
       "      <td>100</td>\n",
       "      <td>100</td>\n",
       "    </tr>\n",
       "    <tr>\n",
       "      <th>8</th>\n",
       "      <td>A9</td>\n",
       "      <td>rock</td>\n",
       "      <td>91</td>\n",
       "      <td>93</td>\n",
       "      <td>35</td>\n",
       "      <td>6</td>\n",
       "      <td>100</td>\n",
       "      <td>100</td>\n",
       "    </tr>\n",
       "    <tr>\n",
       "      <th>9</th>\n",
       "      <td>B1</td>\n",
       "      <td>pushpa</td>\n",
       "      <td>91</td>\n",
       "      <td>93</td>\n",
       "      <td>90</td>\n",
       "      <td>6</td>\n",
       "      <td>100</td>\n",
       "      <td>100</td>\n",
       "    </tr>\n",
       "  </tbody>\n",
       "</table>\n",
       "</div>"
      ],
      "text/plain": [
       "  roll    name  maths  dms  os  co  Totla  Total\n",
       "0   A1  Rizwan     91   93  95   6    100    100\n",
       "1   A2     bro     81   93  95   6    100    100\n",
       "2   A3     sai     91   96  95   6    100    100\n",
       "3   A4    ajay     91   73  75   6    100    100\n",
       "4   A5   pavan     91   83  95   6    100    100\n",
       "5   A6    meka     61   93  55   6    100    100\n",
       "6   A7   monav     91   82  95   6    100    100\n",
       "7   A8    rizz     61   93  92  96    100    100\n",
       "8   A9    rock     91   93  35   6    100    100\n",
       "9   B1  pushpa     91   93  90   6    100    100"
      ]
     },
     "execution_count": 105,
     "metadata": {},
     "output_type": "execute_result"
    }
   ],
   "source": [
    "marks"
   ]
  },
  {
   "cell_type": "code",
   "execution_count": 119,
   "id": "a0a48de7",
   "metadata": {},
   "outputs": [
    {
     "data": {
      "text/plain": [
       "0    91\n",
       "1    81\n",
       "2    91\n",
       "3    91\n",
       "4    91\n",
       "5    61\n",
       "6    91\n",
       "7    61\n",
       "8    91\n",
       "9    91\n",
       "Name: maths, dtype: int64"
      ]
     },
     "execution_count": 119,
     "metadata": {},
     "output_type": "execute_result"
    }
   ],
   "source": [
    "marks[\"maths\"]"
   ]
  },
  {
   "cell_type": "code",
   "execution_count": 114,
   "id": "e1141b7a",
   "metadata": {},
   "outputs": [
    {
     "data": {
      "text/plain": [
       "8"
      ]
     },
     "execution_count": 114,
     "metadata": {},
     "output_type": "execute_result"
    }
   ],
   "source": [
    "marks[\"maths\"].index[8]"
   ]
  },
  {
   "cell_type": "code",
   "execution_count": null,
   "id": "86bf3c30",
   "metadata": {},
   "outputs": [],
   "source": [
    "marks.Maths.sum()"
   ]
  },
  {
   "cell_type": "code",
   "execution_count": 132,
   "id": "a9242a48",
   "metadata": {},
   "outputs": [
    {
     "data": {
      "text/html": [
       "<div>\n",
       "<style scoped>\n",
       "    .dataframe tbody tr th:only-of-type {\n",
       "        vertical-align: middle;\n",
       "    }\n",
       "\n",
       "    .dataframe tbody tr th {\n",
       "        vertical-align: top;\n",
       "    }\n",
       "\n",
       "    .dataframe thead th {\n",
       "        text-align: right;\n",
       "    }\n",
       "</style>\n",
       "<table border=\"1\" class=\"dataframe\">\n",
       "  <thead>\n",
       "    <tr style=\"text-align: right;\">\n",
       "      <th></th>\n",
       "      <th>roll</th>\n",
       "      <th>name</th>\n",
       "      <th>maths</th>\n",
       "      <th>dms</th>\n",
       "      <th>os</th>\n",
       "      <th>co</th>\n",
       "      <th>Totla</th>\n",
       "      <th>Total</th>\n",
       "      <th>total</th>\n",
       "    </tr>\n",
       "  </thead>\n",
       "  <tbody>\n",
       "    <tr>\n",
       "      <th>0</th>\n",
       "      <td>A1</td>\n",
       "      <td>Rizwan</td>\n",
       "      <td>91</td>\n",
       "      <td>93</td>\n",
       "      <td>95</td>\n",
       "      <td>6</td>\n",
       "      <td>100</td>\n",
       "      <td>100</td>\n",
       "      <td>485</td>\n",
       "    </tr>\n",
       "    <tr>\n",
       "      <th>1</th>\n",
       "      <td>A2</td>\n",
       "      <td>bro</td>\n",
       "      <td>81</td>\n",
       "      <td>93</td>\n",
       "      <td>95</td>\n",
       "      <td>6</td>\n",
       "      <td>100</td>\n",
       "      <td>100</td>\n",
       "      <td>475</td>\n",
       "    </tr>\n",
       "    <tr>\n",
       "      <th>2</th>\n",
       "      <td>A3</td>\n",
       "      <td>sai</td>\n",
       "      <td>91</td>\n",
       "      <td>96</td>\n",
       "      <td>95</td>\n",
       "      <td>6</td>\n",
       "      <td>100</td>\n",
       "      <td>100</td>\n",
       "      <td>488</td>\n",
       "    </tr>\n",
       "    <tr>\n",
       "      <th>3</th>\n",
       "      <td>A4</td>\n",
       "      <td>ajay</td>\n",
       "      <td>91</td>\n",
       "      <td>73</td>\n",
       "      <td>75</td>\n",
       "      <td>6</td>\n",
       "      <td>100</td>\n",
       "      <td>100</td>\n",
       "      <td>445</td>\n",
       "    </tr>\n",
       "    <tr>\n",
       "      <th>4</th>\n",
       "      <td>A5</td>\n",
       "      <td>pavan</td>\n",
       "      <td>91</td>\n",
       "      <td>83</td>\n",
       "      <td>95</td>\n",
       "      <td>6</td>\n",
       "      <td>100</td>\n",
       "      <td>100</td>\n",
       "      <td>475</td>\n",
       "    </tr>\n",
       "    <tr>\n",
       "      <th>5</th>\n",
       "      <td>A6</td>\n",
       "      <td>meka</td>\n",
       "      <td>61</td>\n",
       "      <td>93</td>\n",
       "      <td>55</td>\n",
       "      <td>6</td>\n",
       "      <td>100</td>\n",
       "      <td>100</td>\n",
       "      <td>415</td>\n",
       "    </tr>\n",
       "    <tr>\n",
       "      <th>6</th>\n",
       "      <td>A7</td>\n",
       "      <td>monav</td>\n",
       "      <td>91</td>\n",
       "      <td>82</td>\n",
       "      <td>95</td>\n",
       "      <td>6</td>\n",
       "      <td>100</td>\n",
       "      <td>100</td>\n",
       "      <td>474</td>\n",
       "    </tr>\n",
       "    <tr>\n",
       "      <th>7</th>\n",
       "      <td>A8</td>\n",
       "      <td>rizz</td>\n",
       "      <td>61</td>\n",
       "      <td>93</td>\n",
       "      <td>92</td>\n",
       "      <td>96</td>\n",
       "      <td>100</td>\n",
       "      <td>100</td>\n",
       "      <td>542</td>\n",
       "    </tr>\n",
       "    <tr>\n",
       "      <th>8</th>\n",
       "      <td>A9</td>\n",
       "      <td>rock</td>\n",
       "      <td>91</td>\n",
       "      <td>93</td>\n",
       "      <td>35</td>\n",
       "      <td>6</td>\n",
       "      <td>100</td>\n",
       "      <td>100</td>\n",
       "      <td>425</td>\n",
       "    </tr>\n",
       "    <tr>\n",
       "      <th>9</th>\n",
       "      <td>B1</td>\n",
       "      <td>pushpa</td>\n",
       "      <td>91</td>\n",
       "      <td>93</td>\n",
       "      <td>90</td>\n",
       "      <td>6</td>\n",
       "      <td>100</td>\n",
       "      <td>100</td>\n",
       "      <td>480</td>\n",
       "    </tr>\n",
       "  </tbody>\n",
       "</table>\n",
       "</div>"
      ],
      "text/plain": [
       "  roll    name  maths  dms  os  co  Totla  Total  total\n",
       "0   A1  Rizwan     91   93  95   6    100    100    485\n",
       "1   A2     bro     81   93  95   6    100    100    475\n",
       "2   A3     sai     91   96  95   6    100    100    488\n",
       "3   A4    ajay     91   73  75   6    100    100    445\n",
       "4   A5   pavan     91   83  95   6    100    100    475\n",
       "5   A6    meka     61   93  55   6    100    100    415\n",
       "6   A7   monav     91   82  95   6    100    100    474\n",
       "7   A8    rizz     61   93  92  96    100    100    542\n",
       "8   A9    rock     91   93  35   6    100    100    425\n",
       "9   B1  pushpa     91   93  90   6    100    100    480"
      ]
     },
     "execution_count": 132,
     "metadata": {},
     "output_type": "execute_result"
    }
   ],
   "source": [
    "marks[\"total\"]=marks.sum(1)\n",
    "marks"
   ]
  },
  {
   "cell_type": "code",
   "execution_count": 133,
   "id": "18a92155",
   "metadata": {},
   "outputs": [
    {
     "data": {
      "text/plain": [
       "0    100\n",
       "1    100\n",
       "2    100\n",
       "3    100\n",
       "4    100\n",
       "5    100\n",
       "6    100\n",
       "7    100\n",
       "8    100\n",
       "9    100\n",
       "Name: Totla, dtype: int64"
      ]
     },
     "execution_count": 133,
     "metadata": {},
     "output_type": "execute_result"
    }
   ],
   "source": [
    "marks.pop(\"Totla\")"
   ]
  },
  {
   "cell_type": "code",
   "execution_count": 135,
   "id": "74eb1387",
   "metadata": {},
   "outputs": [
    {
     "data": {
      "text/plain": [
       "0    100\n",
       "1    100\n",
       "2    100\n",
       "3    100\n",
       "4    100\n",
       "5    100\n",
       "6    100\n",
       "7    100\n",
       "8    100\n",
       "9    100\n",
       "Name: Total, dtype: int64"
      ]
     },
     "execution_count": 135,
     "metadata": {},
     "output_type": "execute_result"
    }
   ],
   "source": [
    "marks.pop(\"Total\")"
   ]
  },
  {
   "cell_type": "code",
   "execution_count": 138,
   "id": "01ca22b6",
   "metadata": {},
   "outputs": [
    {
     "data": {
      "text/html": [
       "<div>\n",
       "<style scoped>\n",
       "    .dataframe tbody tr th:only-of-type {\n",
       "        vertical-align: middle;\n",
       "    }\n",
       "\n",
       "    .dataframe tbody tr th {\n",
       "        vertical-align: top;\n",
       "    }\n",
       "\n",
       "    .dataframe thead th {\n",
       "        text-align: right;\n",
       "    }\n",
       "</style>\n",
       "<table border=\"1\" class=\"dataframe\">\n",
       "  <thead>\n",
       "    <tr style=\"text-align: right;\">\n",
       "      <th></th>\n",
       "      <th>roll</th>\n",
       "      <th>name</th>\n",
       "      <th>maths</th>\n",
       "      <th>dms</th>\n",
       "      <th>os</th>\n",
       "      <th>co</th>\n",
       "    </tr>\n",
       "  </thead>\n",
       "  <tbody>\n",
       "    <tr>\n",
       "      <th>0</th>\n",
       "      <td>A1</td>\n",
       "      <td>Rizwan</td>\n",
       "      <td>91</td>\n",
       "      <td>93</td>\n",
       "      <td>95</td>\n",
       "      <td>80</td>\n",
       "    </tr>\n",
       "    <tr>\n",
       "      <th>1</th>\n",
       "      <td>A2</td>\n",
       "      <td>bro</td>\n",
       "      <td>81</td>\n",
       "      <td>93</td>\n",
       "      <td>95</td>\n",
       "      <td>78</td>\n",
       "    </tr>\n",
       "    <tr>\n",
       "      <th>2</th>\n",
       "      <td>A3</td>\n",
       "      <td>sai</td>\n",
       "      <td>91</td>\n",
       "      <td>96</td>\n",
       "      <td>95</td>\n",
       "      <td>89</td>\n",
       "    </tr>\n",
       "    <tr>\n",
       "      <th>3</th>\n",
       "      <td>A4</td>\n",
       "      <td>ajay</td>\n",
       "      <td>91</td>\n",
       "      <td>73</td>\n",
       "      <td>75</td>\n",
       "      <td>99</td>\n",
       "    </tr>\n",
       "    <tr>\n",
       "      <th>4</th>\n",
       "      <td>A5</td>\n",
       "      <td>pavan</td>\n",
       "      <td>91</td>\n",
       "      <td>83</td>\n",
       "      <td>95</td>\n",
       "      <td>80</td>\n",
       "    </tr>\n",
       "    <tr>\n",
       "      <th>5</th>\n",
       "      <td>A6</td>\n",
       "      <td>meka</td>\n",
       "      <td>61</td>\n",
       "      <td>93</td>\n",
       "      <td>55</td>\n",
       "      <td>76</td>\n",
       "    </tr>\n",
       "    <tr>\n",
       "      <th>6</th>\n",
       "      <td>A7</td>\n",
       "      <td>monav</td>\n",
       "      <td>91</td>\n",
       "      <td>82</td>\n",
       "      <td>95</td>\n",
       "      <td>80</td>\n",
       "    </tr>\n",
       "    <tr>\n",
       "      <th>7</th>\n",
       "      <td>A8</td>\n",
       "      <td>rizz</td>\n",
       "      <td>61</td>\n",
       "      <td>93</td>\n",
       "      <td>92</td>\n",
       "      <td>67</td>\n",
       "    </tr>\n",
       "    <tr>\n",
       "      <th>8</th>\n",
       "      <td>A9</td>\n",
       "      <td>rock</td>\n",
       "      <td>91</td>\n",
       "      <td>93</td>\n",
       "      <td>35</td>\n",
       "      <td>22</td>\n",
       "    </tr>\n",
       "    <tr>\n",
       "      <th>9</th>\n",
       "      <td>B1</td>\n",
       "      <td>pushpa</td>\n",
       "      <td>91</td>\n",
       "      <td>93</td>\n",
       "      <td>90</td>\n",
       "      <td>69</td>\n",
       "    </tr>\n",
       "  </tbody>\n",
       "</table>\n",
       "</div>"
      ],
      "text/plain": [
       "  roll    name  maths  dms  os  co\n",
       "0   A1  Rizwan     91   93  95  80\n",
       "1   A2     bro     81   93  95  78\n",
       "2   A3     sai     91   96  95  89\n",
       "3   A4    ajay     91   73  75  99\n",
       "4   A5   pavan     91   83  95  80\n",
       "5   A6    meka     61   93  55  76\n",
       "6   A7   monav     91   82  95  80\n",
       "7   A8    rizz     61   93  92  67\n",
       "8   A9    rock     91   93  35  22\n",
       "9   B1  pushpa     91   93  90  69"
      ]
     },
     "execution_count": 138,
     "metadata": {},
     "output_type": "execute_result"
    }
   ],
   "source": [
    "marks"
   ]
  },
  {
   "cell_type": "code",
   "execution_count": 142,
   "id": "7a748652",
   "metadata": {},
   "outputs": [],
   "source": [
    "marks[\"total\"]=marks.sum(1)"
   ]
  },
  {
   "cell_type": "code",
   "execution_count": 143,
   "id": "27430e0c",
   "metadata": {},
   "outputs": [
    {
     "data": {
      "text/html": [
       "<div>\n",
       "<style scoped>\n",
       "    .dataframe tbody tr th:only-of-type {\n",
       "        vertical-align: middle;\n",
       "    }\n",
       "\n",
       "    .dataframe tbody tr th {\n",
       "        vertical-align: top;\n",
       "    }\n",
       "\n",
       "    .dataframe thead th {\n",
       "        text-align: right;\n",
       "    }\n",
       "</style>\n",
       "<table border=\"1\" class=\"dataframe\">\n",
       "  <thead>\n",
       "    <tr style=\"text-align: right;\">\n",
       "      <th></th>\n",
       "      <th>roll</th>\n",
       "      <th>name</th>\n",
       "      <th>maths</th>\n",
       "      <th>dms</th>\n",
       "      <th>os</th>\n",
       "      <th>co</th>\n",
       "      <th>total</th>\n",
       "    </tr>\n",
       "  </thead>\n",
       "  <tbody>\n",
       "    <tr>\n",
       "      <th>0</th>\n",
       "      <td>A1</td>\n",
       "      <td>Rizwan</td>\n",
       "      <td>91</td>\n",
       "      <td>93</td>\n",
       "      <td>95</td>\n",
       "      <td>80</td>\n",
       "      <td>359</td>\n",
       "    </tr>\n",
       "    <tr>\n",
       "      <th>1</th>\n",
       "      <td>A2</td>\n",
       "      <td>bro</td>\n",
       "      <td>81</td>\n",
       "      <td>93</td>\n",
       "      <td>95</td>\n",
       "      <td>78</td>\n",
       "      <td>347</td>\n",
       "    </tr>\n",
       "    <tr>\n",
       "      <th>2</th>\n",
       "      <td>A3</td>\n",
       "      <td>sai</td>\n",
       "      <td>91</td>\n",
       "      <td>96</td>\n",
       "      <td>95</td>\n",
       "      <td>89</td>\n",
       "      <td>371</td>\n",
       "    </tr>\n",
       "    <tr>\n",
       "      <th>3</th>\n",
       "      <td>A4</td>\n",
       "      <td>ajay</td>\n",
       "      <td>91</td>\n",
       "      <td>73</td>\n",
       "      <td>75</td>\n",
       "      <td>99</td>\n",
       "      <td>338</td>\n",
       "    </tr>\n",
       "    <tr>\n",
       "      <th>4</th>\n",
       "      <td>A5</td>\n",
       "      <td>pavan</td>\n",
       "      <td>91</td>\n",
       "      <td>83</td>\n",
       "      <td>95</td>\n",
       "      <td>80</td>\n",
       "      <td>349</td>\n",
       "    </tr>\n",
       "    <tr>\n",
       "      <th>5</th>\n",
       "      <td>A6</td>\n",
       "      <td>meka</td>\n",
       "      <td>61</td>\n",
       "      <td>93</td>\n",
       "      <td>55</td>\n",
       "      <td>76</td>\n",
       "      <td>285</td>\n",
       "    </tr>\n",
       "    <tr>\n",
       "      <th>6</th>\n",
       "      <td>A7</td>\n",
       "      <td>monav</td>\n",
       "      <td>91</td>\n",
       "      <td>82</td>\n",
       "      <td>95</td>\n",
       "      <td>80</td>\n",
       "      <td>348</td>\n",
       "    </tr>\n",
       "    <tr>\n",
       "      <th>7</th>\n",
       "      <td>A8</td>\n",
       "      <td>rizz</td>\n",
       "      <td>61</td>\n",
       "      <td>93</td>\n",
       "      <td>92</td>\n",
       "      <td>67</td>\n",
       "      <td>313</td>\n",
       "    </tr>\n",
       "    <tr>\n",
       "      <th>8</th>\n",
       "      <td>A9</td>\n",
       "      <td>rock</td>\n",
       "      <td>91</td>\n",
       "      <td>93</td>\n",
       "      <td>35</td>\n",
       "      <td>22</td>\n",
       "      <td>241</td>\n",
       "    </tr>\n",
       "    <tr>\n",
       "      <th>9</th>\n",
       "      <td>B1</td>\n",
       "      <td>pushpa</td>\n",
       "      <td>91</td>\n",
       "      <td>93</td>\n",
       "      <td>90</td>\n",
       "      <td>69</td>\n",
       "      <td>343</td>\n",
       "    </tr>\n",
       "  </tbody>\n",
       "</table>\n",
       "</div>"
      ],
      "text/plain": [
       "  roll    name  maths  dms  os  co  total\n",
       "0   A1  Rizwan     91   93  95  80    359\n",
       "1   A2     bro     81   93  95  78    347\n",
       "2   A3     sai     91   96  95  89    371\n",
       "3   A4    ajay     91   73  75  99    338\n",
       "4   A5   pavan     91   83  95  80    349\n",
       "5   A6    meka     61   93  55  76    285\n",
       "6   A7   monav     91   82  95  80    348\n",
       "7   A8    rizz     61   93  92  67    313\n",
       "8   A9    rock     91   93  35  22    241\n",
       "9   B1  pushpa     91   93  90  69    343"
      ]
     },
     "execution_count": 143,
     "metadata": {},
     "output_type": "execute_result"
    }
   ],
   "source": [
    "marks"
   ]
  },
  {
   "cell_type": "code",
   "execution_count": 144,
   "id": "1bc9c040",
   "metadata": {},
   "outputs": [
    {
     "data": {
      "text/html": [
       "<div>\n",
       "<style scoped>\n",
       "    .dataframe tbody tr th:only-of-type {\n",
       "        vertical-align: middle;\n",
       "    }\n",
       "\n",
       "    .dataframe tbody tr th {\n",
       "        vertical-align: top;\n",
       "    }\n",
       "\n",
       "    .dataframe thead th {\n",
       "        text-align: right;\n",
       "    }\n",
       "</style>\n",
       "<table border=\"1\" class=\"dataframe\">\n",
       "  <thead>\n",
       "    <tr style=\"text-align: right;\">\n",
       "      <th></th>\n",
       "      <th>roll</th>\n",
       "      <th>name</th>\n",
       "      <th>maths</th>\n",
       "      <th>dms</th>\n",
       "      <th>os</th>\n",
       "      <th>co</th>\n",
       "      <th>total</th>\n",
       "    </tr>\n",
       "  </thead>\n",
       "  <tbody>\n",
       "    <tr>\n",
       "      <th>0</th>\n",
       "      <td>False</td>\n",
       "      <td>False</td>\n",
       "      <td>False</td>\n",
       "      <td>False</td>\n",
       "      <td>False</td>\n",
       "      <td>False</td>\n",
       "      <td>False</td>\n",
       "    </tr>\n",
       "    <tr>\n",
       "      <th>1</th>\n",
       "      <td>False</td>\n",
       "      <td>False</td>\n",
       "      <td>False</td>\n",
       "      <td>False</td>\n",
       "      <td>False</td>\n",
       "      <td>False</td>\n",
       "      <td>False</td>\n",
       "    </tr>\n",
       "    <tr>\n",
       "      <th>2</th>\n",
       "      <td>False</td>\n",
       "      <td>False</td>\n",
       "      <td>False</td>\n",
       "      <td>False</td>\n",
       "      <td>False</td>\n",
       "      <td>False</td>\n",
       "      <td>False</td>\n",
       "    </tr>\n",
       "    <tr>\n",
       "      <th>3</th>\n",
       "      <td>False</td>\n",
       "      <td>False</td>\n",
       "      <td>False</td>\n",
       "      <td>False</td>\n",
       "      <td>False</td>\n",
       "      <td>False</td>\n",
       "      <td>False</td>\n",
       "    </tr>\n",
       "    <tr>\n",
       "      <th>4</th>\n",
       "      <td>False</td>\n",
       "      <td>False</td>\n",
       "      <td>False</td>\n",
       "      <td>False</td>\n",
       "      <td>False</td>\n",
       "      <td>False</td>\n",
       "      <td>False</td>\n",
       "    </tr>\n",
       "    <tr>\n",
       "      <th>5</th>\n",
       "      <td>False</td>\n",
       "      <td>False</td>\n",
       "      <td>False</td>\n",
       "      <td>False</td>\n",
       "      <td>False</td>\n",
       "      <td>False</td>\n",
       "      <td>False</td>\n",
       "    </tr>\n",
       "    <tr>\n",
       "      <th>6</th>\n",
       "      <td>False</td>\n",
       "      <td>False</td>\n",
       "      <td>False</td>\n",
       "      <td>False</td>\n",
       "      <td>False</td>\n",
       "      <td>False</td>\n",
       "      <td>False</td>\n",
       "    </tr>\n",
       "    <tr>\n",
       "      <th>7</th>\n",
       "      <td>False</td>\n",
       "      <td>False</td>\n",
       "      <td>False</td>\n",
       "      <td>False</td>\n",
       "      <td>False</td>\n",
       "      <td>False</td>\n",
       "      <td>False</td>\n",
       "    </tr>\n",
       "    <tr>\n",
       "      <th>8</th>\n",
       "      <td>False</td>\n",
       "      <td>False</td>\n",
       "      <td>False</td>\n",
       "      <td>False</td>\n",
       "      <td>False</td>\n",
       "      <td>False</td>\n",
       "      <td>False</td>\n",
       "    </tr>\n",
       "    <tr>\n",
       "      <th>9</th>\n",
       "      <td>False</td>\n",
       "      <td>False</td>\n",
       "      <td>False</td>\n",
       "      <td>False</td>\n",
       "      <td>False</td>\n",
       "      <td>False</td>\n",
       "      <td>False</td>\n",
       "    </tr>\n",
       "  </tbody>\n",
       "</table>\n",
       "</div>"
      ],
      "text/plain": [
       "    roll   name  maths    dms     os     co  total\n",
       "0  False  False  False  False  False  False  False\n",
       "1  False  False  False  False  False  False  False\n",
       "2  False  False  False  False  False  False  False\n",
       "3  False  False  False  False  False  False  False\n",
       "4  False  False  False  False  False  False  False\n",
       "5  False  False  False  False  False  False  False\n",
       "6  False  False  False  False  False  False  False\n",
       "7  False  False  False  False  False  False  False\n",
       "8  False  False  False  False  False  False  False\n",
       "9  False  False  False  False  False  False  False"
      ]
     },
     "execution_count": 144,
     "metadata": {},
     "output_type": "execute_result"
    }
   ],
   "source": [
    "marks.isnull()"
   ]
  },
  {
   "cell_type": "code",
   "execution_count": 145,
   "id": "5314a409",
   "metadata": {},
   "outputs": [
    {
     "data": {
      "text/plain": [
       "roll     10\n",
       "name     10\n",
       "maths     3\n",
       "dms       5\n",
       "os        6\n",
       "co        8\n",
       "total    10\n",
       "dtype: int64"
      ]
     },
     "execution_count": 145,
     "metadata": {},
     "output_type": "execute_result"
    }
   ],
   "source": [
    "marks.nunique()"
   ]
  },
  {
   "cell_type": "code",
   "execution_count": 146,
   "id": "0a481821",
   "metadata": {},
   "outputs": [],
   "source": [
    "clean = marks.dropna()"
   ]
  },
  {
   "cell_type": "code",
   "execution_count": 147,
   "id": "976fae20",
   "metadata": {},
   "outputs": [
    {
     "data": {
      "text/html": [
       "<div>\n",
       "<style scoped>\n",
       "    .dataframe tbody tr th:only-of-type {\n",
       "        vertical-align: middle;\n",
       "    }\n",
       "\n",
       "    .dataframe tbody tr th {\n",
       "        vertical-align: top;\n",
       "    }\n",
       "\n",
       "    .dataframe thead th {\n",
       "        text-align: right;\n",
       "    }\n",
       "</style>\n",
       "<table border=\"1\" class=\"dataframe\">\n",
       "  <thead>\n",
       "    <tr style=\"text-align: right;\">\n",
       "      <th></th>\n",
       "      <th>roll</th>\n",
       "      <th>name</th>\n",
       "      <th>maths</th>\n",
       "      <th>dms</th>\n",
       "      <th>os</th>\n",
       "      <th>co</th>\n",
       "      <th>total</th>\n",
       "    </tr>\n",
       "  </thead>\n",
       "  <tbody>\n",
       "    <tr>\n",
       "      <th>0</th>\n",
       "      <td>A1</td>\n",
       "      <td>Rizwan</td>\n",
       "      <td>91</td>\n",
       "      <td>93</td>\n",
       "      <td>95</td>\n",
       "      <td>80</td>\n",
       "      <td>359</td>\n",
       "    </tr>\n",
       "    <tr>\n",
       "      <th>1</th>\n",
       "      <td>A2</td>\n",
       "      <td>bro</td>\n",
       "      <td>81</td>\n",
       "      <td>93</td>\n",
       "      <td>95</td>\n",
       "      <td>78</td>\n",
       "      <td>347</td>\n",
       "    </tr>\n",
       "    <tr>\n",
       "      <th>2</th>\n",
       "      <td>A3</td>\n",
       "      <td>sai</td>\n",
       "      <td>91</td>\n",
       "      <td>96</td>\n",
       "      <td>95</td>\n",
       "      <td>89</td>\n",
       "      <td>371</td>\n",
       "    </tr>\n",
       "    <tr>\n",
       "      <th>3</th>\n",
       "      <td>A4</td>\n",
       "      <td>ajay</td>\n",
       "      <td>91</td>\n",
       "      <td>73</td>\n",
       "      <td>75</td>\n",
       "      <td>99</td>\n",
       "      <td>338</td>\n",
       "    </tr>\n",
       "    <tr>\n",
       "      <th>4</th>\n",
       "      <td>A5</td>\n",
       "      <td>pavan</td>\n",
       "      <td>91</td>\n",
       "      <td>83</td>\n",
       "      <td>95</td>\n",
       "      <td>80</td>\n",
       "      <td>349</td>\n",
       "    </tr>\n",
       "    <tr>\n",
       "      <th>5</th>\n",
       "      <td>A6</td>\n",
       "      <td>meka</td>\n",
       "      <td>61</td>\n",
       "      <td>93</td>\n",
       "      <td>55</td>\n",
       "      <td>76</td>\n",
       "      <td>285</td>\n",
       "    </tr>\n",
       "    <tr>\n",
       "      <th>6</th>\n",
       "      <td>A7</td>\n",
       "      <td>monav</td>\n",
       "      <td>91</td>\n",
       "      <td>82</td>\n",
       "      <td>95</td>\n",
       "      <td>80</td>\n",
       "      <td>348</td>\n",
       "    </tr>\n",
       "    <tr>\n",
       "      <th>7</th>\n",
       "      <td>A8</td>\n",
       "      <td>rizz</td>\n",
       "      <td>61</td>\n",
       "      <td>93</td>\n",
       "      <td>92</td>\n",
       "      <td>67</td>\n",
       "      <td>313</td>\n",
       "    </tr>\n",
       "    <tr>\n",
       "      <th>8</th>\n",
       "      <td>A9</td>\n",
       "      <td>rock</td>\n",
       "      <td>91</td>\n",
       "      <td>93</td>\n",
       "      <td>35</td>\n",
       "      <td>22</td>\n",
       "      <td>241</td>\n",
       "    </tr>\n",
       "    <tr>\n",
       "      <th>9</th>\n",
       "      <td>B1</td>\n",
       "      <td>pushpa</td>\n",
       "      <td>91</td>\n",
       "      <td>93</td>\n",
       "      <td>90</td>\n",
       "      <td>69</td>\n",
       "      <td>343</td>\n",
       "    </tr>\n",
       "  </tbody>\n",
       "</table>\n",
       "</div>"
      ],
      "text/plain": [
       "  roll    name  maths  dms  os  co  total\n",
       "0   A1  Rizwan     91   93  95  80    359\n",
       "1   A2     bro     81   93  95  78    347\n",
       "2   A3     sai     91   96  95  89    371\n",
       "3   A4    ajay     91   73  75  99    338\n",
       "4   A5   pavan     91   83  95  80    349\n",
       "5   A6    meka     61   93  55  76    285\n",
       "6   A7   monav     91   82  95  80    348\n",
       "7   A8    rizz     61   93  92  67    313\n",
       "8   A9    rock     91   93  35  22    241\n",
       "9   B1  pushpa     91   93  90  69    343"
      ]
     },
     "execution_count": 147,
     "metadata": {},
     "output_type": "execute_result"
    }
   ],
   "source": [
    "clean"
   ]
  },
  {
   "cell_type": "code",
   "execution_count": 148,
   "id": "c04abbd5",
   "metadata": {},
   "outputs": [
    {
     "data": {
      "text/html": [
       "<div>\n",
       "<style scoped>\n",
       "    .dataframe tbody tr th:only-of-type {\n",
       "        vertical-align: middle;\n",
       "    }\n",
       "\n",
       "    .dataframe tbody tr th {\n",
       "        vertical-align: top;\n",
       "    }\n",
       "\n",
       "    .dataframe thead th {\n",
       "        text-align: right;\n",
       "    }\n",
       "</style>\n",
       "<table border=\"1\" class=\"dataframe\">\n",
       "  <thead>\n",
       "    <tr style=\"text-align: right;\">\n",
       "      <th></th>\n",
       "      <th>roll</th>\n",
       "      <th>name</th>\n",
       "      <th>maths</th>\n",
       "      <th>dms</th>\n",
       "      <th>os</th>\n",
       "      <th>co</th>\n",
       "      <th>total</th>\n",
       "    </tr>\n",
       "  </thead>\n",
       "  <tbody>\n",
       "    <tr>\n",
       "      <th>0</th>\n",
       "      <td>A1</td>\n",
       "      <td>Rizwan</td>\n",
       "      <td>91</td>\n",
       "      <td>93</td>\n",
       "      <td>95</td>\n",
       "      <td>80</td>\n",
       "      <td>359</td>\n",
       "    </tr>\n",
       "    <tr>\n",
       "      <th>1</th>\n",
       "      <td>A2</td>\n",
       "      <td>bro</td>\n",
       "      <td>81</td>\n",
       "      <td>93</td>\n",
       "      <td>95</td>\n",
       "      <td>78</td>\n",
       "      <td>347</td>\n",
       "    </tr>\n",
       "    <tr>\n",
       "      <th>2</th>\n",
       "      <td>A3</td>\n",
       "      <td>sai</td>\n",
       "      <td>91</td>\n",
       "      <td>96</td>\n",
       "      <td>95</td>\n",
       "      <td>89</td>\n",
       "      <td>371</td>\n",
       "    </tr>\n",
       "    <tr>\n",
       "      <th>3</th>\n",
       "      <td>A4</td>\n",
       "      <td>ajay</td>\n",
       "      <td>91</td>\n",
       "      <td>73</td>\n",
       "      <td>75</td>\n",
       "      <td>99</td>\n",
       "      <td>338</td>\n",
       "    </tr>\n",
       "    <tr>\n",
       "      <th>4</th>\n",
       "      <td>A5</td>\n",
       "      <td>pavan</td>\n",
       "      <td>91</td>\n",
       "      <td>83</td>\n",
       "      <td>95</td>\n",
       "      <td>80</td>\n",
       "      <td>349</td>\n",
       "    </tr>\n",
       "    <tr>\n",
       "      <th>5</th>\n",
       "      <td>A6</td>\n",
       "      <td>meka</td>\n",
       "      <td>61</td>\n",
       "      <td>93</td>\n",
       "      <td>55</td>\n",
       "      <td>76</td>\n",
       "      <td>285</td>\n",
       "    </tr>\n",
       "    <tr>\n",
       "      <th>6</th>\n",
       "      <td>A7</td>\n",
       "      <td>monav</td>\n",
       "      <td>91</td>\n",
       "      <td>82</td>\n",
       "      <td>95</td>\n",
       "      <td>80</td>\n",
       "      <td>348</td>\n",
       "    </tr>\n",
       "    <tr>\n",
       "      <th>7</th>\n",
       "      <td>A8</td>\n",
       "      <td>rizz</td>\n",
       "      <td>61</td>\n",
       "      <td>93</td>\n",
       "      <td>92</td>\n",
       "      <td>67</td>\n",
       "      <td>313</td>\n",
       "    </tr>\n",
       "    <tr>\n",
       "      <th>8</th>\n",
       "      <td>A9</td>\n",
       "      <td>rock</td>\n",
       "      <td>91</td>\n",
       "      <td>93</td>\n",
       "      <td>35</td>\n",
       "      <td>22</td>\n",
       "      <td>241</td>\n",
       "    </tr>\n",
       "    <tr>\n",
       "      <th>9</th>\n",
       "      <td>B1</td>\n",
       "      <td>pushpa</td>\n",
       "      <td>91</td>\n",
       "      <td>93</td>\n",
       "      <td>90</td>\n",
       "      <td>69</td>\n",
       "      <td>343</td>\n",
       "    </tr>\n",
       "  </tbody>\n",
       "</table>\n",
       "</div>"
      ],
      "text/plain": [
       "  roll    name  maths  dms  os  co  total\n",
       "0   A1  Rizwan     91   93  95  80    359\n",
       "1   A2     bro     81   93  95  78    347\n",
       "2   A3     sai     91   96  95  89    371\n",
       "3   A4    ajay     91   73  75  99    338\n",
       "4   A5   pavan     91   83  95  80    349\n",
       "5   A6    meka     61   93  55  76    285\n",
       "6   A7   monav     91   82  95  80    348\n",
       "7   A8    rizz     61   93  92  67    313\n",
       "8   A9    rock     91   93  35  22    241\n",
       "9   B1  pushpa     91   93  90  69    343"
      ]
     },
     "execution_count": 148,
     "metadata": {},
     "output_type": "execute_result"
    }
   ],
   "source": [
    "marks"
   ]
  },
  {
   "cell_type": "code",
   "execution_count": null,
   "id": "e2076588",
   "metadata": {},
   "outputs": [],
   "source": []
  }
 ],
 "metadata": {
  "kernelspec": {
   "display_name": "Python 3",
   "language": "python",
   "name": "python3"
  },
  "language_info": {
   "codemirror_mode": {
    "name": "ipython",
    "version": 3
   },
   "file_extension": ".py",
   "mimetype": "text/x-python",
   "name": "python",
   "nbconvert_exporter": "python",
   "pygments_lexer": "ipython3",
   "version": "3.8.8"
  }
 },
 "nbformat": 4,
 "nbformat_minor": 5
}
